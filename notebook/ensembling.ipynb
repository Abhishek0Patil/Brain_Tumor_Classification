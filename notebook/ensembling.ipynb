{
 "cells": [
  {
   "cell_type": "code",
   "execution_count": 1,
   "id": "29ad3eee-24d6-47cc-8b76-09bdf9066b1e",
   "metadata": {},
   "outputs": [],
   "source": [
    "import pandas as pd\n",
    "import numpy as np\n",
    "import matplotlib.pyplot as plt\n",
    "import os, shutil\n",
    "import cv2\n",
    "import matplotlib.image as mpimg\n",
    "import seaborn as sns\n",
    "%matplotlib inline\n",
    "plt.style.use('ggplot')"
   ]
  },
  {
   "cell_type": "code",
   "execution_count": 2,
   "id": "7ab3ea0d-4625-4561-ab47-829a9239b6cd",
   "metadata": {},
   "outputs": [],
   "source": [
    "import tensorflow as tf\n",
    "from tensorflow.keras.preprocessing.image import ImageDataGenerator\n",
    "from tensorflow.keras.models import Model,Sequential\n",
    "from tensorflow.keras.layers import Flatten, Dense, Dropout,BatchNormalization,Activation\n",
    "from tensorflow.keras.applications.vgg19 import VGG19,preprocess_input\n",
    "from tensorflow.keras.optimizers import SGD, Adam\n",
    "from tensorflow.keras.callbacks import ModelCheckpoint, EarlyStopping, ReduceLROnPlateau"
   ]
  },
  {
   "cell_type": "code",
   "execution_count": 3,
   "id": "9e77eced-d25a-4a38-a4c3-435ccf2ee6ea",
   "metadata": {},
   "outputs": [
    {
     "name": "stdout",
     "output_type": "stream",
     "text": [
      "TensorFlow version: 2.16.1\n",
      "4.10.0\n"
     ]
    }
   ],
   "source": [
    "import tensorflow as tf\n",
    "print(\"TensorFlow version:\", tf.__version__)\n",
    "print(cv2.__version__)"
   ]
  },
  {
   "cell_type": "code",
   "execution_count": 3,
   "id": "d6b5b892-5522-48c9-97e5-9445dc01b9c1",
   "metadata": {},
   "outputs": [],
   "source": [
    "train_datagen = ImageDataGenerator(rescale=1./255.,\n",
    "                                   horizontal_flip=True,\n",
    "                                   vertical_flip=True,\n",
    "                                   shear_range=0.4,\n",
    "                                   width_shift_range=0.25,\n",
    "                                   height_shift_range=0.25,\n",
    "                                   rotation_range=45,\n",
    "                                   fill_mode='nearest')"
   ]
  },
  {
   "cell_type": "code",
   "execution_count": 4,
   "id": "7b51c2db-231a-427d-81d2-ee6e0fa4fce0",
   "metadata": {},
   "outputs": [],
   "source": [
    "valid_datagen = ImageDataGenerator(rescale=1./255)"
   ]
  },
  {
   "cell_type": "code",
   "execution_count": 5,
   "id": "2b613651-ad13-4ff2-a8d8-8854df2565c0",
   "metadata": {},
   "outputs": [],
   "source": [
    "test_datagen = ImageDataGenerator(rescale=1./255)"
   ]
  },
  {
   "cell_type": "code",
   "execution_count": 6,
   "id": "18f18927-bb20-44d7-a7d1-d05d6037717b",
   "metadata": {},
   "outputs": [
    {
     "name": "stdout",
     "output_type": "stream",
     "text": [
      "Found 19674 images belonging to 2 classes.\n"
     ]
    }
   ],
   "source": [
    "train_generator = train_datagen.flow_from_directory('tumorous_and_nontumorous/train/', \n",
    "                                                    batch_size=32, \n",
    "                                                    target_size=(120,120), \n",
    "                                                    class_mode='categorical',\n",
    "                                                    shuffle=True, \n",
    "                                                    seed = 42, \n",
    "                                                    color_mode = 'rgb')"
   ]
  },
  {
   "cell_type": "code",
   "execution_count": 7,
   "id": "414813fc-1739-4ed9-a386-9878b6311b63",
   "metadata": {},
   "outputs": [
    {
     "name": "stdout",
     "output_type": "stream",
     "text": [
      "Found 2162 images belonging to 2 classes.\n"
     ]
    }
   ],
   "source": [
    "valid_generator = train_datagen.flow_from_directory('tumorous_and_nontumorous/valid/', \n",
    "                                                    batch_size=32, \n",
    "                                                    target_size=(120,120), \n",
    "                                                    class_mode='categorical',\n",
    "                                                    shuffle=True, \n",
    "                                                    seed = 42, \n",
    "                                                    color_mode = 'rgb')"
   ]
  },
  {
   "cell_type": "code",
   "execution_count": 8,
   "id": "1ece583d-9eef-40c6-8759-d5ee6ba94a18",
   "metadata": {},
   "outputs": [
    {
     "name": "stdout",
     "output_type": "stream",
     "text": [
      "Found 2158 images belonging to 2 classes.\n"
     ]
    }
   ],
   "source": [
    "test_generator = train_datagen.flow_from_directory('tumorous_and_nontumorous/test/', \n",
    "                                                   batch_size=32, \n",
    "                                                   target_size=(120,120), \n",
    "                                                   class_mode='categorical',\n",
    "                                                   shuffle=False, \n",
    "                                                   seed = 42, \n",
    "                                                   color_mode = 'rgb')\n"
   ]
  },
  {
   "cell_type": "code",
   "execution_count": 9,
   "id": "f8414cde-a9ff-4ce7-9715-115d633d7d12",
   "metadata": {},
   "outputs": [],
   "source": [
    "nb_samples = test_generator.samples"
   ]
  },
  {
   "cell_type": "code",
   "execution_count": 10,
   "id": "299d701c-814d-4ae3-850e-d1f4b9566161",
   "metadata": {},
   "outputs": [
    {
     "name": "stdout",
     "output_type": "stream",
     "text": [
      "True labels shape: (2158,)\n",
      "Unique true labels: [0 1]\n"
     ]
    }
   ],
   "source": [
    "print(\"True labels shape:\", test_generator.classes.shape)\n",
    "print(\"Unique true labels:\", np.unique(test_generator.classes))"
   ]
  },
  {
   "cell_type": "code",
   "execution_count": 11,
   "id": "d0b684fc-f05c-455b-9548-2256ad008279",
   "metadata": {},
   "outputs": [
    {
     "name": "stdout",
     "output_type": "stream",
     "text": [
      "WARNING:tensorflow:From C:\\Users\\abhi2\\anaconda3\\Lib\\site-packages\\keras\\src\\backend\\tensorflow\\core.py:184: The name tf.placeholder is deprecated. Please use tf.compat.v1.placeholder instead.\n",
      "\n"
     ]
    }
   ],
   "source": [
    "from keras.models import load_model\n",
    "\n",
    "vgg19_model = load_model('model_vgg19.keras')\n",
    "densenet_model = load_model('model_DenseNet121.keras')\n",
    "inceptionresnet_model = load_model('model_incepresnet.keras')\n",
    "inceptionv3_model = load_model('model_Inceptionv3.keras')\n",
    "xception_model = load_model('model_xception.keras')\n"
   ]
  },
  {
   "cell_type": "code",
   "execution_count": 13,
   "id": "d67f6086-c82e-4c3e-8493-aa08172b3f26",
   "metadata": {},
   "outputs": [],
   "source": [
    "import numpy as np\n",
    "\n",
    "def predict_with_models(models, test_generator):\n",
    "    predictions = []\n",
    "    for model in models:\n",
    "        preds = model.predict(test_generator, steps=test_generator.samples // test_generator.batch_size + 1)\n",
    "        predictions.append(preds)\n",
    "    return np.array(predictions)\n"
   ]
  },
  {
   "cell_type": "code",
   "execution_count": 14,
   "id": "7acbf7bc-9331-4cf1-ae00-ea1c8322b85b",
   "metadata": {},
   "outputs": [],
   "source": [
    "def ensemble_predictions(predictions):\n",
    "    return np.mean(predictions, axis=0)\n"
   ]
  },
  {
   "cell_type": "code",
   "execution_count": 15,
   "id": "fd3348c3-ae20-446c-96a5-63c7dcb1ee2d",
   "metadata": {},
   "outputs": [
    {
     "name": "stderr",
     "output_type": "stream",
     "text": [
      "C:\\Users\\abhi2\\anaconda3\\Lib\\site-packages\\keras\\src\\trainers\\data_adapters\\py_dataset_adapter.py:121: UserWarning: Your `PyDataset` class should call `super().__init__(**kwargs)` in its constructor. `**kwargs` can include `workers`, `use_multiprocessing`, `max_queue_size`. Do not pass these arguments to `fit()`, as they will be ignored.\n",
      "  self._warn_if_super_not_called()\n"
     ]
    },
    {
     "name": "stdout",
     "output_type": "stream",
     "text": [
      "\u001b[1m68/68\u001b[0m \u001b[32m━━━━━━━━━━━━━━━━━━━━\u001b[0m\u001b[37m\u001b[0m \u001b[1m48s\u001b[0m 703ms/step\n",
      "\u001b[1m68/68\u001b[0m \u001b[32m━━━━━━━━━━━━━━━━━━━━\u001b[0m\u001b[37m\u001b[0m \u001b[1m26s\u001b[0m 336ms/step\n",
      "\u001b[1m68/68\u001b[0m \u001b[32m━━━━━━━━━━━━━━━━━━━━\u001b[0m\u001b[37m\u001b[0m \u001b[1m29s\u001b[0m 370ms/step\n",
      "\u001b[1m68/68\u001b[0m \u001b[32m━━━━━━━━━━━━━━━━━━━━\u001b[0m\u001b[37m\u001b[0m \u001b[1m16s\u001b[0m 207ms/step\n",
      "\u001b[1m68/68\u001b[0m \u001b[32m━━━━━━━━━━━━━━━━━━━━\u001b[0m\u001b[37m\u001b[0m \u001b[1m27s\u001b[0m 383ms/step\n"
     ]
    }
   ],
   "source": [
    "models = [vgg19_model, densenet_model, inceptionresnet_model, inceptionv3_model, xception_model]\n",
    "\n",
    "# Get individual model predictions\n",
    "individual_preds = predict_with_models(models, test_generator)\n",
    "\n",
    "# Ensemble the predictions\n",
    "final_predictions = ensemble_predictions(individual_preds)\n",
    "\n",
    "# Convert probabilities to class labels (assuming binary classification)\n",
    "final_labels = np.argmax(final_predictions, axis=1)\n"
   ]
  },
  {
   "cell_type": "code",
   "execution_count": 16,
   "id": "9212cf0f-c8ac-4ffb-866e-b2c9da27698a",
   "metadata": {},
   "outputs": [
    {
     "name": "stdout",
     "output_type": "stream",
     "text": [
      "Accuracy: 0.9963\n",
      "              precision    recall  f1-score   support\n",
      "\n",
      "           0     0.9963    0.9963    0.9963      1079\n",
      "           1     0.9963    0.9963    0.9963      1079\n",
      "\n",
      "    accuracy                         0.9963      2158\n",
      "   macro avg     0.9963    0.9963    0.9963      2158\n",
      "weighted avg     0.9963    0.9963    0.9963      2158\n",
      "\n",
      "[[1075    4]\n",
      " [   4 1075]]\n"
     ]
    }
   ],
   "source": [
    "from sklearn.metrics import confusion_matrix, classification_report, accuracy_score\n",
    "import matplotlib.pyplot as plt\n",
    "import seaborn as sns\n",
    "\n",
    "# Get true labels from the test generator\n",
    "true_labels = test_generator.classes  # Assuming this gives you the true labels\n",
    "\n",
    "# Calculate accuracy\n",
    "accuracy = accuracy_score(true_labels, final_labels)\n",
    "print(f'Accuracy: {accuracy:.4f}')\n",
    "\n",
    "# Generate confusion matrix\n",
    "conf_matrix = confusion_matrix(true_labels, final_labels)\n",
    "\n",
    "# Print classification report\n",
    "print(classification_report(true_labels, final_labels,digits=4))\n",
    "\n",
    "print(conf_matrix)\n"
   ]
  }
 ],
 "metadata": {
  "kernelspec": {
   "display_name": "Python 3 (ipykernel)",
   "language": "python",
   "name": "python3"
  },
  "language_info": {
   "codemirror_mode": {
    "name": "ipython",
    "version": 3
   },
   "file_extension": ".py",
   "mimetype": "text/x-python",
   "name": "python",
   "nbconvert_exporter": "python",
   "pygments_lexer": "ipython3",
   "version": "3.11.7"
  }
 },
 "nbformat": 4,
 "nbformat_minor": 5
}
