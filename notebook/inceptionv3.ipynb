{
 "cells": [
  {
   "cell_type": "code",
   "execution_count": 2,
   "id": "4b72e4a5-88ea-4958-aeed-5fa428ff0e79",
   "metadata": {},
   "outputs": [],
   "source": [
    "import pandas as pd\n",
    "import numpy as np\n",
    "import matplotlib.pyplot as plt\n",
    "import os, shutil\n",
    "import cv2\n",
    "import matplotlib.image as mpimg\n",
    "import seaborn as sns\n",
    "%matplotlib inline\n",
    "plt.style.use('ggplot')"
   ]
  },
  {
   "cell_type": "code",
   "execution_count": 3,
   "id": "27cdeae8-3e6d-40dc-81ab-674e11229302",
   "metadata": {},
   "outputs": [],
   "source": [
    "import tensorflow as tf\n",
    "from tensorflow.keras.preprocessing.image import ImageDataGenerator\n",
    "from tensorflow.keras.models import Model,Sequential\n",
    "from tensorflow.keras.layers import Flatten, Dense, Dropout,BatchNormalization,Activation\n",
    "from tensorflow.keras.applications import InceptionV3\n",
    "from tensorflow.keras.optimizers import SGD, Adam\n",
    "from tensorflow.keras.callbacks import ModelCheckpoint, EarlyStopping, ReduceLROnPlateau"
   ]
  },
  {
   "cell_type": "code",
   "execution_count": 4,
   "id": "e1558909-fccb-4fca-83bc-02cbca69b606",
   "metadata": {},
   "outputs": [],
   "source": [
    "train_datagen = ImageDataGenerator(rescale=1./255.,\n",
    "                                   horizontal_flip=True,\n",
    "                                   vertical_flip=True,\n",
    "                                   shear_range=0.4,\n",
    "                                   width_shift_range=0.25,\n",
    "                                   height_shift_range=0.25,\n",
    "                                   rotation_range=45,\n",
    "                                   fill_mode='nearest')"
   ]
  },
  {
   "cell_type": "code",
   "execution_count": 5,
   "id": "7b0000d9-06fb-4096-b0fa-3c2c64af8070",
   "metadata": {},
   "outputs": [],
   "source": [
    "valid_datagen = ImageDataGenerator(rescale=1./255)"
   ]
  },
  {
   "cell_type": "code",
   "execution_count": 6,
   "id": "b76bb97a-0ee5-4d04-aaab-f1499c3fbb00",
   "metadata": {},
   "outputs": [],
   "source": [
    "test_datagen = ImageDataGenerator(rescale=1./255)"
   ]
  },
  {
   "cell_type": "code",
   "execution_count": 7,
   "id": "d9f33c33-297f-4615-9bf0-61f58a932eda",
   "metadata": {},
   "outputs": [
    {
     "name": "stdout",
     "output_type": "stream",
     "text": [
      "Found 19674 images belonging to 2 classes.\n"
     ]
    }
   ],
   "source": [
    "train_generator = train_datagen.flow_from_directory('tumorous_and_nontumorous/train/', \n",
    "                                                    batch_size=32, \n",
    "                                                    target_size=(120,120), \n",
    "                                                    class_mode='categorical',  # Changed from 'binary' to 'categorical'\n",
    "                                                    shuffle=True, \n",
    "                                                    seed=42, \n",
    "                                                    color_mode='rgb')\n"
   ]
  },
  {
   "cell_type": "code",
   "execution_count": 8,
   "id": "9b4e0512-11f2-48b3-b854-6799515c37b7",
   "metadata": {},
   "outputs": [
    {
     "name": "stdout",
     "output_type": "stream",
     "text": [
      "Found 2158 images belonging to 2 classes.\n"
     ]
    }
   ],
   "source": [
    "test_generator = train_datagen.flow_from_directory('tumorous_and_nontumorous/test/', \n",
    "                                                   batch_size=32, \n",
    "                                                   target_size=(120,120), \n",
    "                                                   class_mode='categorical',\n",
    "                                                   shuffle=False, \n",
    "                                                   seed = 42, \n",
    "                                                   color_mode = 'rgb')\n"
   ]
  },
  {
   "cell_type": "code",
   "execution_count": 9,
   "id": "a2d5fcd8-e87d-4419-a1b1-0a5ad52686d3",
   "metadata": {},
   "outputs": [
    {
     "name": "stdout",
     "output_type": "stream",
     "text": [
      "Found 2162 images belonging to 2 classes.\n"
     ]
    }
   ],
   "source": [
    "valid_generator = train_datagen.flow_from_directory('tumorous_and_nontumorous/valid/', \n",
    "                                                    batch_size=32, \n",
    "                                                    target_size=(120,120), \n",
    "                                                    class_mode='categorical',\n",
    "                                                    shuffle=True, \n",
    "                                                    seed = 42, \n",
    "                                                    color_mode = 'rgb')\n"
   ]
  },
  {
   "cell_type": "code",
   "execution_count": 10,
   "id": "ba0af970-ba0a-465f-bc16-9c6c27f0030e",
   "metadata": {},
   "outputs": [
    {
     "name": "stdout",
     "output_type": "stream",
     "text": [
      "Shape of batch (X): (32, 120, 120, 3)\n",
      "Shape of labels (Y): (32, 2)\n"
     ]
    }
   ],
   "source": [
    "x, y = next(train_generator)\n",
    "print(f\"Shape of batch (X): {x.shape}\")\n",
    "print(f\"Shape of labels (Y): {y.shape}\")\n"
   ]
  },
  {
   "cell_type": "code",
   "execution_count": 10,
   "id": "e2d06500-e8f2-4db1-9129-313314706fef",
   "metadata": {},
   "outputs": [
    {
     "name": "stdout",
     "output_type": "stream",
     "text": [
      "Downloading data from https://storage.googleapis.com/tensorflow/keras-applications/inception_v3/inception_v3_weights_tf_dim_ordering_tf_kernels_notop.h5\n",
      "\u001b[1m87910968/87910968\u001b[0m \u001b[32m━━━━━━━━━━━━━━━━━━━━\u001b[0m\u001b[37m\u001b[0m \u001b[1m19s\u001b[0m 0us/step\n"
     ]
    },
    {
     "data": {
      "text/html": [
       "<pre style=\"white-space:pre;overflow-x:auto;line-height:normal;font-family:Menlo,'DejaVu Sans Mono',consolas,'Courier New',monospace\"><span style=\"font-weight: bold\">Model: \"sequential\"</span>\n",
       "</pre>\n"
      ],
      "text/plain": [
       "\u001b[1mModel: \"sequential\"\u001b[0m\n"
      ]
     },
     "metadata": {},
     "output_type": "display_data"
    },
    {
     "data": {
      "text/html": [
       "<pre style=\"white-space:pre;overflow-x:auto;line-height:normal;font-family:Menlo,'DejaVu Sans Mono',consolas,'Courier New',monospace\">┏━━━━━━━━━━━━━━━━━━━━━━━━━━━━━━━━━━━━━━┳━━━━━━━━━━━━━━━━━━━━━━━━━━━━━┳━━━━━━━━━━━━━━━━━┓\n",
       "┃<span style=\"font-weight: bold\"> Layer (type)                         </span>┃<span style=\"font-weight: bold\"> Output Shape                </span>┃<span style=\"font-weight: bold\">         Param # </span>┃\n",
       "┡━━━━━━━━━━━━━━━━━━━━━━━━━━━━━━━━━━━━━━╇━━━━━━━━━━━━━━━━━━━━━━━━━━━━━╇━━━━━━━━━━━━━━━━━┩\n",
       "│ inception_v3 (<span style=\"color: #0087ff; text-decoration-color: #0087ff\">Functional</span>)            │ (<span style=\"color: #00d7ff; text-decoration-color: #00d7ff\">None</span>, <span style=\"color: #00af00; text-decoration-color: #00af00\">2</span>, <span style=\"color: #00af00; text-decoration-color: #00af00\">2</span>, <span style=\"color: #00af00; text-decoration-color: #00af00\">2048</span>)          │      <span style=\"color: #00af00; text-decoration-color: #00af00\">21,802,784</span> │\n",
       "├──────────────────────────────────────┼─────────────────────────────┼─────────────────┤\n",
       "│ flatten (<span style=\"color: #0087ff; text-decoration-color: #0087ff\">Flatten</span>)                    │ (<span style=\"color: #00d7ff; text-decoration-color: #00d7ff\">None</span>, <span style=\"color: #00af00; text-decoration-color: #00af00\">8192</span>)                │               <span style=\"color: #00af00; text-decoration-color: #00af00\">0</span> │\n",
       "├──────────────────────────────────────┼─────────────────────────────┼─────────────────┤\n",
       "│ batch_normalization_94               │ (<span style=\"color: #00d7ff; text-decoration-color: #00d7ff\">None</span>, <span style=\"color: #00af00; text-decoration-color: #00af00\">8192</span>)                │          <span style=\"color: #00af00; text-decoration-color: #00af00\">32,768</span> │\n",
       "│ (<span style=\"color: #0087ff; text-decoration-color: #0087ff\">BatchNormalization</span>)                 │                             │                 │\n",
       "├──────────────────────────────────────┼─────────────────────────────┼─────────────────┤\n",
       "│ dense (<span style=\"color: #0087ff; text-decoration-color: #0087ff\">Dense</span>)                        │ (<span style=\"color: #00d7ff; text-decoration-color: #00d7ff\">None</span>, <span style=\"color: #00af00; text-decoration-color: #00af00\">256</span>)                 │       <span style=\"color: #00af00; text-decoration-color: #00af00\">2,097,408</span> │\n",
       "├──────────────────────────────────────┼─────────────────────────────┼─────────────────┤\n",
       "│ batch_normalization_95               │ (<span style=\"color: #00d7ff; text-decoration-color: #00d7ff\">None</span>, <span style=\"color: #00af00; text-decoration-color: #00af00\">256</span>)                 │           <span style=\"color: #00af00; text-decoration-color: #00af00\">1,024</span> │\n",
       "│ (<span style=\"color: #0087ff; text-decoration-color: #0087ff\">BatchNormalization</span>)                 │                             │                 │\n",
       "├──────────────────────────────────────┼─────────────────────────────┼─────────────────┤\n",
       "│ activation_94 (<span style=\"color: #0087ff; text-decoration-color: #0087ff\">Activation</span>)           │ (<span style=\"color: #00d7ff; text-decoration-color: #00d7ff\">None</span>, <span style=\"color: #00af00; text-decoration-color: #00af00\">256</span>)                 │               <span style=\"color: #00af00; text-decoration-color: #00af00\">0</span> │\n",
       "├──────────────────────────────────────┼─────────────────────────────┼─────────────────┤\n",
       "│ dropout (<span style=\"color: #0087ff; text-decoration-color: #0087ff\">Dropout</span>)                    │ (<span style=\"color: #00d7ff; text-decoration-color: #00d7ff\">None</span>, <span style=\"color: #00af00; text-decoration-color: #00af00\">256</span>)                 │               <span style=\"color: #00af00; text-decoration-color: #00af00\">0</span> │\n",
       "├──────────────────────────────────────┼─────────────────────────────┼─────────────────┤\n",
       "│ dense_1 (<span style=\"color: #0087ff; text-decoration-color: #0087ff\">Dense</span>)                      │ (<span style=\"color: #00d7ff; text-decoration-color: #00d7ff\">None</span>, <span style=\"color: #00af00; text-decoration-color: #00af00\">2</span>)                   │             <span style=\"color: #00af00; text-decoration-color: #00af00\">514</span> │\n",
       "└──────────────────────────────────────┴─────────────────────────────┴─────────────────┘\n",
       "</pre>\n"
      ],
      "text/plain": [
       "┏━━━━━━━━━━━━━━━━━━━━━━━━━━━━━━━━━━━━━━┳━━━━━━━━━━━━━━━━━━━━━━━━━━━━━┳━━━━━━━━━━━━━━━━━┓\n",
       "┃\u001b[1m \u001b[0m\u001b[1mLayer (type)                        \u001b[0m\u001b[1m \u001b[0m┃\u001b[1m \u001b[0m\u001b[1mOutput Shape               \u001b[0m\u001b[1m \u001b[0m┃\u001b[1m \u001b[0m\u001b[1m        Param #\u001b[0m\u001b[1m \u001b[0m┃\n",
       "┡━━━━━━━━━━━━━━━━━━━━━━━━━━━━━━━━━━━━━━╇━━━━━━━━━━━━━━━━━━━━━━━━━━━━━╇━━━━━━━━━━━━━━━━━┩\n",
       "│ inception_v3 (\u001b[38;5;33mFunctional\u001b[0m)            │ (\u001b[38;5;45mNone\u001b[0m, \u001b[38;5;34m2\u001b[0m, \u001b[38;5;34m2\u001b[0m, \u001b[38;5;34m2048\u001b[0m)          │      \u001b[38;5;34m21,802,784\u001b[0m │\n",
       "├──────────────────────────────────────┼─────────────────────────────┼─────────────────┤\n",
       "│ flatten (\u001b[38;5;33mFlatten\u001b[0m)                    │ (\u001b[38;5;45mNone\u001b[0m, \u001b[38;5;34m8192\u001b[0m)                │               \u001b[38;5;34m0\u001b[0m │\n",
       "├──────────────────────────────────────┼─────────────────────────────┼─────────────────┤\n",
       "│ batch_normalization_94               │ (\u001b[38;5;45mNone\u001b[0m, \u001b[38;5;34m8192\u001b[0m)                │          \u001b[38;5;34m32,768\u001b[0m │\n",
       "│ (\u001b[38;5;33mBatchNormalization\u001b[0m)                 │                             │                 │\n",
       "├──────────────────────────────────────┼─────────────────────────────┼─────────────────┤\n",
       "│ dense (\u001b[38;5;33mDense\u001b[0m)                        │ (\u001b[38;5;45mNone\u001b[0m, \u001b[38;5;34m256\u001b[0m)                 │       \u001b[38;5;34m2,097,408\u001b[0m │\n",
       "├──────────────────────────────────────┼─────────────────────────────┼─────────────────┤\n",
       "│ batch_normalization_95               │ (\u001b[38;5;45mNone\u001b[0m, \u001b[38;5;34m256\u001b[0m)                 │           \u001b[38;5;34m1,024\u001b[0m │\n",
       "│ (\u001b[38;5;33mBatchNormalization\u001b[0m)                 │                             │                 │\n",
       "├──────────────────────────────────────┼─────────────────────────────┼─────────────────┤\n",
       "│ activation_94 (\u001b[38;5;33mActivation\u001b[0m)           │ (\u001b[38;5;45mNone\u001b[0m, \u001b[38;5;34m256\u001b[0m)                 │               \u001b[38;5;34m0\u001b[0m │\n",
       "├──────────────────────────────────────┼─────────────────────────────┼─────────────────┤\n",
       "│ dropout (\u001b[38;5;33mDropout\u001b[0m)                    │ (\u001b[38;5;45mNone\u001b[0m, \u001b[38;5;34m256\u001b[0m)                 │               \u001b[38;5;34m0\u001b[0m │\n",
       "├──────────────────────────────────────┼─────────────────────────────┼─────────────────┤\n",
       "│ dense_1 (\u001b[38;5;33mDense\u001b[0m)                      │ (\u001b[38;5;45mNone\u001b[0m, \u001b[38;5;34m2\u001b[0m)                   │             \u001b[38;5;34m514\u001b[0m │\n",
       "└──────────────────────────────────────┴─────────────────────────────┴─────────────────┘\n"
      ]
     },
     "metadata": {},
     "output_type": "display_data"
    },
    {
     "data": {
      "text/html": [
       "<pre style=\"white-space:pre;overflow-x:auto;line-height:normal;font-family:Menlo,'DejaVu Sans Mono',consolas,'Courier New',monospace\"><span style=\"font-weight: bold\"> Total params: </span><span style=\"color: #00af00; text-decoration-color: #00af00\">23,934,498</span> (91.30 MB)\n",
       "</pre>\n"
      ],
      "text/plain": [
       "\u001b[1m Total params: \u001b[0m\u001b[38;5;34m23,934,498\u001b[0m (91.30 MB)\n"
      ]
     },
     "metadata": {},
     "output_type": "display_data"
    },
    {
     "data": {
      "text/html": [
       "<pre style=\"white-space:pre;overflow-x:auto;line-height:normal;font-family:Menlo,'DejaVu Sans Mono',consolas,'Courier New',monospace\"><span style=\"font-weight: bold\"> Trainable params: </span><span style=\"color: #00af00; text-decoration-color: #00af00\">2,114,818</span> (8.07 MB)\n",
       "</pre>\n"
      ],
      "text/plain": [
       "\u001b[1m Trainable params: \u001b[0m\u001b[38;5;34m2,114,818\u001b[0m (8.07 MB)\n"
      ]
     },
     "metadata": {},
     "output_type": "display_data"
    },
    {
     "data": {
      "text/html": [
       "<pre style=\"white-space:pre;overflow-x:auto;line-height:normal;font-family:Menlo,'DejaVu Sans Mono',consolas,'Courier New',monospace\"><span style=\"font-weight: bold\"> Non-trainable params: </span><span style=\"color: #00af00; text-decoration-color: #00af00\">21,819,680</span> (83.24 MB)\n",
       "</pre>\n"
      ],
      "text/plain": [
       "\u001b[1m Non-trainable params: \u001b[0m\u001b[38;5;34m21,819,680\u001b[0m (83.24 MB)\n"
      ]
     },
     "metadata": {},
     "output_type": "display_data"
    }
   ],
   "source": [
    "from tensorflow.keras.applications import InceptionV3\n",
    "from tensorflow.keras.models import Sequential\n",
    "from tensorflow.keras.layers import Flatten, BatchNormalization, Dense, Activation, Dropout\n",
    "from tensorflow.keras.optimizers import Adam\n",
    "from tensorflow.keras import Input\n",
    "\n",
    "# Explicitly define the input shape\n",
    "input_shape = (120, 120, 3)\n",
    "\n",
    "# Base Model\n",
    "base_Neural_Net = InceptionV3(input_shape=input_shape, weights='imagenet', include_top=False)\n",
    "\n",
    "# Create a Sequential model\n",
    "model = Sequential()\n",
    "\n",
    "# Add the base model with pre-trained weights\n",
    "model.add(base_Neural_Net)\n",
    "\n",
    "# Freeze the base model layers\n",
    "for layer in base_Neural_Net.layers:\n",
    "    layer.trainable = False\n",
    "\n",
    "# Add custom layers\n",
    "model.add(Flatten())\n",
    "model.add(BatchNormalization())  # Add BatchNormalization after Flatten\n",
    "model.add(Dense(256, kernel_initializer='he_uniform'))\n",
    "model.add(BatchNormalization())  # Add BatchNormalization before Activation\n",
    "model.add(Activation('relu'))\n",
    "model.add(Dropout(0.3))\n",
    "model.add(Dense(2, activation='softmax'))  # Categorical classification output\n",
    "\n",
    "# Compile the model\n",
    "model.compile(\n",
    "    loss='categorical_crossentropy',\n",
    "    optimizer=Adam(learning_rate=1e-4),  # Smaller learning rate for transfer learning\n",
    "    metrics=['accuracy', 'AUC']\n",
    ")\n",
    "\n",
    "# Print the model summary\n",
    "model.build((None,120,120,3))  # Manually define input shape for model build\n",
    "model.summary()\n"
   ]
  },
  {
   "cell_type": "code",
   "execution_count": 11,
   "id": "a316a0e4-a85d-4687-bc0c-f5719ca9f3a6",
   "metadata": {},
   "outputs": [],
   "source": [
    "filepath='model_InceptionV3.keras'\n",
    "cp = ModelCheckpoint(filepath, monitor='val_accuracy', verbose = 1, save_best_only=True, save_weights_only=False, mode='max',save_freq='epoch')"
   ]
  },
  {
   "cell_type": "code",
   "execution_count": 12,
   "id": "737b3825-efc9-4d51-b474-a568582fc06c",
   "metadata": {},
   "outputs": [
    {
     "name": "stdout",
     "output_type": "stream",
     "text": [
      "Epoch 1/10\n"
     ]
    },
    {
     "name": "stderr",
     "output_type": "stream",
     "text": [
      "C:\\Users\\abhi2\\anaconda3\\Lib\\site-packages\\keras\\src\\trainers\\data_adapters\\py_dataset_adapter.py:121: UserWarning: Your `PyDataset` class should call `super().__init__(**kwargs)` in its constructor. `**kwargs` can include `workers`, `use_multiprocessing`, `max_queue_size`. Do not pass these arguments to `fit()`, as they will be ignored.\n",
      "  self._warn_if_super_not_called()\n"
     ]
    },
    {
     "name": "stdout",
     "output_type": "stream",
     "text": [
      "\u001b[1m60/60\u001b[0m \u001b[32m━━━━━━━━━━━━━━━━━━━━\u001b[0m\u001b[37m\u001b[0m \u001b[1m0s\u001b[0m 256ms/step - AUC: 0.7559 - accuracy: 0.6934 - loss: 0.7287\n",
      "Epoch 1: val_accuracy improved from -inf to 0.81406, saving model to model_InceptionV3.keras\n",
      "\u001b[1m60/60\u001b[0m \u001b[32m━━━━━━━━━━━━━━━━━━━━\u001b[0m\u001b[37m\u001b[0m \u001b[1m40s\u001b[0m 523ms/step - AUC: 0.7571 - accuracy: 0.6943 - loss: 0.7266 - val_AUC: 0.8923 - val_accuracy: 0.8141 - val_loss: 0.5194\n",
      "Epoch 2/10\n",
      "\u001b[1m60/60\u001b[0m \u001b[32m━━━━━━━━━━━━━━━━━━━━\u001b[0m\u001b[37m\u001b[0m \u001b[1m0s\u001b[0m 212ms/step - AUC: 0.9170 - accuracy: 0.8515 - loss: 0.3782\n",
      "Epoch 2: val_accuracy improved from 0.81406 to 0.86170, saving model to model_InceptionV3.keras\n",
      "\u001b[1m60/60\u001b[0m \u001b[32m━━━━━━━━━━━━━━━━━━━━\u001b[0m\u001b[37m\u001b[0m \u001b[1m25s\u001b[0m 426ms/step - AUC: 0.9170 - accuracy: 0.8516 - loss: 0.3783 - val_AUC: 0.9308 - val_accuracy: 0.8617 - val_loss: 0.3638\n",
      "Epoch 3/10\n",
      "\u001b[1m60/60\u001b[0m \u001b[32m━━━━━━━━━━━━━━━━━━━━\u001b[0m\u001b[37m\u001b[0m \u001b[1m0s\u001b[0m 202ms/step - AUC: 0.9341 - accuracy: 0.8547 - loss: 0.3323\n",
      "Epoch 3: val_accuracy improved from 0.86170 to 0.89223, saving model to model_InceptionV3.keras\n",
      "\u001b[1m60/60\u001b[0m \u001b[32m━━━━━━━━━━━━━━━━━━━━\u001b[0m\u001b[37m\u001b[0m \u001b[1m25s\u001b[0m 415ms/step - AUC: 0.9339 - accuracy: 0.8546 - loss: 0.3327 - val_AUC: 0.9504 - val_accuracy: 0.8922 - val_loss: 0.2919\n",
      "Epoch 4/10\n",
      "\u001b[1m60/60\u001b[0m \u001b[32m━━━━━━━━━━━━━━━━━━━━\u001b[0m\u001b[37m\u001b[0m \u001b[1m0s\u001b[0m 191ms/step - AUC: 0.9378 - accuracy: 0.8651 - loss: 0.3227\n",
      "Epoch 4: val_accuracy did not improve from 0.89223\n",
      "\u001b[1m60/60\u001b[0m \u001b[32m━━━━━━━━━━━━━━━━━━━━\u001b[0m\u001b[37m\u001b[0m \u001b[1m24s\u001b[0m 405ms/step - AUC: 0.9378 - accuracy: 0.8649 - loss: 0.3228 - val_AUC: 0.9437 - val_accuracy: 0.8700 - val_loss: 0.3118\n",
      "Epoch 5/10\n",
      "\u001b[1m60/60\u001b[0m \u001b[32m━━━━━━━━━━━━━━━━━━━━\u001b[0m\u001b[37m\u001b[0m \u001b[1m0s\u001b[0m 184ms/step - AUC: 0.9450 - accuracy: 0.8819 - loss: 0.3062\n",
      "Epoch 5: val_accuracy did not improve from 0.89223\n",
      "\u001b[1m60/60\u001b[0m \u001b[32m━━━━━━━━━━━━━━━━━━━━\u001b[0m\u001b[37m\u001b[0m \u001b[1m23s\u001b[0m 395ms/step - AUC: 0.9450 - accuracy: 0.8818 - loss: 0.3061 - val_AUC: 0.9553 - val_accuracy: 0.8899 - val_loss: 0.2731\n",
      "Epoch 6/10\n",
      "\u001b[1m60/60\u001b[0m \u001b[32m━━━━━━━━━━━━━━━━━━━━\u001b[0m\u001b[37m\u001b[0m \u001b[1m0s\u001b[0m 145ms/step - AUC: 0.9396 - accuracy: 0.8670 - loss: 0.3208\n",
      "Epoch 6: val_accuracy improved from 0.89223 to 0.90102, saving model to model_InceptionV3.keras\n",
      "\u001b[1m60/60\u001b[0m \u001b[32m━━━━━━━━━━━━━━━━━━━━\u001b[0m\u001b[37m\u001b[0m \u001b[1m23s\u001b[0m 386ms/step - AUC: 0.9396 - accuracy: 0.8668 - loss: 0.3208 - val_AUC: 0.9610 - val_accuracy: 0.9010 - val_loss: 0.2520\n",
      "Epoch 7/10\n",
      "\u001b[1m60/60\u001b[0m \u001b[32m━━━━━━━━━━━━━━━━━━━━\u001b[0m\u001b[37m\u001b[0m \u001b[1m0s\u001b[0m 135ms/step - AUC: 0.9561 - accuracy: 0.8866 - loss: 0.2679\n",
      "Epoch 7: val_accuracy improved from 0.90102 to 0.90472, saving model to model_InceptionV3.keras\n",
      "\u001b[1m60/60\u001b[0m \u001b[32m━━━━━━━━━━━━━━━━━━━━\u001b[0m\u001b[37m\u001b[0m \u001b[1m22s\u001b[0m 362ms/step - AUC: 0.9560 - accuracy: 0.8866 - loss: 0.2682 - val_AUC: 0.9667 - val_accuracy: 0.9047 - val_loss: 0.2336\n",
      "Epoch 8/10\n",
      "\u001b[1m60/60\u001b[0m \u001b[32m━━━━━━━━━━━━━━━━━━━━\u001b[0m\u001b[37m\u001b[0m \u001b[1m0s\u001b[0m 135ms/step - AUC: 0.9554 - accuracy: 0.8876 - loss: 0.2724\n",
      "Epoch 8: val_accuracy improved from 0.90472 to 0.91304, saving model to model_InceptionV3.keras\n",
      "\u001b[1m60/60\u001b[0m \u001b[32m━━━━━━━━━━━━━━━━━━━━\u001b[0m\u001b[37m\u001b[0m \u001b[1m22s\u001b[0m 363ms/step - AUC: 0.9554 - accuracy: 0.8875 - loss: 0.2725 - val_AUC: 0.9685 - val_accuracy: 0.9130 - val_loss: 0.2258\n",
      "Epoch 9/10\n",
      "\u001b[1m60/60\u001b[0m \u001b[32m━━━━━━━━━━━━━━━━━━━━\u001b[0m\u001b[37m\u001b[0m \u001b[1m0s\u001b[0m 136ms/step - AUC: 0.9539 - accuracy: 0.8875 - loss: 0.2759\n",
      "Epoch 9: val_accuracy did not improve from 0.91304\n",
      "\u001b[1m60/60\u001b[0m \u001b[32m━━━━━━━━━━━━━━━━━━━━\u001b[0m\u001b[37m\u001b[0m \u001b[1m21s\u001b[0m 350ms/step - AUC: 0.9539 - accuracy: 0.8875 - loss: 0.2759 - val_AUC: 0.9670 - val_accuracy: 0.9093 - val_loss: 0.2328\n",
      "Epoch 10/10\n",
      "\u001b[1m60/60\u001b[0m \u001b[32m━━━━━━━━━━━━━━━━━━━━\u001b[0m\u001b[37m\u001b[0m \u001b[1m0s\u001b[0m 131ms/step - AUC: 0.9608 - accuracy: 0.8988 - loss: 0.2534\n",
      "Epoch 10: val_accuracy did not improve from 0.91304\n",
      "\u001b[1m60/60\u001b[0m \u001b[32m━━━━━━━━━━━━━━━━━━━━\u001b[0m\u001b[37m\u001b[0m \u001b[1m20s\u001b[0m 330ms/step - AUC: 0.9607 - accuracy: 0.8987 - loss: 0.2537 - val_AUC: 0.9698 - val_accuracy: 0.9098 - val_loss: 0.2219\n"
     ]
    }
   ],
   "source": [
    "EPOCHS = 10\n",
    "es = EarlyStopping(\n",
    "    monitor='val_accuracy', \n",
    "    mode='max',\n",
    "    patience=6\n",
    ")\n",
    "\n",
    "history = model.fit(\n",
    "    train_generator,\n",
    "    batch_size=32,\n",
    "    epochs=EPOCHS,\n",
    "    steps_per_epoch=60,\n",
    "    validation_data=valid_generator,\n",
    "    callbacks=[es,cp]\n",
    ")"
   ]
  },
  {
   "cell_type": "code",
   "execution_count": 13,
   "id": "3c858e17-7e19-4512-9b3f-25b6a39b4842",
   "metadata": {},
   "outputs": [],
   "source": [
    "history = model.history.history"
   ]
  },
  {
   "cell_type": "code",
   "execution_count": 14,
   "id": "07de7f6b-d765-4ac5-911f-0a4e4e732415",
   "metadata": {},
   "outputs": [],
   "source": [
    "import matplotlib.pyplot as plt  # Importing the necessary library\n",
    "\n",
    "def plot_metrics(history):\n",
    "    train_loss = history['loss']\n",
    "    val_loss = history['val_loss']\n",
    "    train_acc = history['accuracy']\n",
    "    val_acc = history['val_accuracy']\n",
    "    \n",
    "    # Loss\n",
    "    plt.figure()\n",
    "    plt.plot(train_loss, label='Training Loss')\n",
    "    plt.plot(val_loss, label='Validation Loss')\n",
    "    plt.title('Loss')\n",
    "    plt.legend()\n",
    "    plt.show()\n",
    "    \n",
    "    # Accuracy\n",
    "    plt.figure()\n",
    "    plt.plot(train_acc, label='Training Accuracy')\n",
    "    plt.plot(val_acc, label='Validation Accuracy')\n",
    "    plt.title('Accuracy')\n",
    "    plt.legend()\n",
    "    plt.show()\n"
   ]
  },
  {
   "cell_type": "code",
   "execution_count": 15,
   "id": "fa195f02-5ea5-4265-9cc5-fea108e75ad8",
   "metadata": {},
   "outputs": [
    {
     "data": {
      "image/png": "[encoded data removed]",
      "text/plain": [
       "<Figure size 640x480 with 1 Axes>"
      ]
     },
     "metadata": {},
     "output_type": "display_data"
    },
    {
     "data": {
      "image/png": "[encoded data removed]",
      "text/plain": [
       "<Figure size 640x480 with 1 Axes>"
      ]
     },
     "metadata": {},
     "output_type": "display_data"
    }
   ],
   "source": [
    "plot_metrics(history) "
   ]
  },
  {
   "cell_type": "code",
   "execution_count": 19,
   "id": "3a6a1458-d1e9-48b8-bb3e-1c1189227d5b",
   "metadata": {},
   "outputs": [
    {
     "name": "stdout",
     "output_type": "stream",
     "text": [
      "input_layer_8: Trainable = False\n",
      "conv2d_376: Trainable = False\n",
      "batch_normalization_384: Trainable = False\n",
      "activation_380: Trainable = False\n",
      "conv2d_377: Trainable = False\n",
      "batch_normalization_385: Trainable = False\n",
      "activation_381: Trainable = False\n",
      "conv2d_378: Trainable = False\n",
      "batch_normalization_386: Trainable = False\n",
      "activation_382: Trainable = False\n",
      "max_pooling2d_16: Trainable = False\n",
      "conv2d_379: Trainable = False\n",
      "batch_normalization_387: Trainable = False\n",
      "activation_383: Trainable = False\n",
      "conv2d_380: Trainable = False\n",
      "batch_normalization_388: Trainable = False\n",
      "activation_384: Trainable = False\n",
      "max_pooling2d_17: Trainable = False\n",
      "conv2d_384: Trainable = False\n",
      "batch_normalization_392: Trainable = False\n",
      "activation_388: Trainable = False\n",
      "conv2d_382: Trainable = False\n",
      "conv2d_385: Trainable = False\n",
      "batch_normalization_390: Trainable = False\n",
      "batch_normalization_393: Trainable = False\n",
      "activation_386: Trainable = False\n",
      "activation_389: Trainable = False\n",
      "average_pooling2d_36: Trainable = False\n",
      "conv2d_381: Trainable = False\n",
      "conv2d_383: Trainable = False\n",
      "conv2d_386: Trainable = False\n",
      "conv2d_387: Trainable = False\n",
      "batch_normalization_389: Trainable = False\n",
      "batch_normalization_391: Trainable = False\n",
      "batch_normalization_394: Trainable = False\n",
      "batch_normalization_395: Trainable = False\n",
      "activation_385: Trainable = False\n",
      "activation_387: Trainable = False\n",
      "activation_390: Trainable = False\n",
      "activation_391: Trainable = False\n",
      "mixed0: Trainable = False\n",
      "conv2d_391: Trainable = False\n",
      "batch_normalization_399: Trainable = False\n",
      "activation_395: Trainable = False\n",
      "conv2d_389: Trainable = False\n",
      "conv2d_392: Trainable = False\n",
      "batch_normalization_397: Trainable = False\n",
      "batch_normalization_400: Trainable = False\n",
      "activation_393: Trainable = False\n",
      "activation_396: Trainable = False\n",
      "average_pooling2d_37: Trainable = False\n",
      "conv2d_388: Trainable = False\n",
      "conv2d_390: Trainable = False\n",
      "conv2d_393: Trainable = False\n",
      "conv2d_394: Trainable = False\n",
      "batch_normalization_396: Trainable = False\n",
      "batch_normalization_398: Trainable = False\n",
      "batch_normalization_401: Trainable = False\n",
      "batch_normalization_402: Trainable = False\n",
      "activation_392: Trainable = False\n",
      "activation_394: Trainable = False\n",
      "activation_397: Trainable = False\n",
      "activation_398: Trainable = False\n",
      "mixed1: Trainable = False\n",
      "conv2d_398: Trainable = False\n",
      "batch_normalization_406: Trainable = False\n",
      "activation_402: Trainable = False\n",
      "conv2d_396: Trainable = False\n",
      "conv2d_399: Trainable = False\n",
      "batch_normalization_404: Trainable = False\n",
      "batch_normalization_407: Trainable = False\n",
      "activation_400: Trainable = False\n",
      "activation_403: Trainable = False\n",
      "average_pooling2d_38: Trainable = False\n",
      "conv2d_395: Trainable = False\n",
      "conv2d_397: Trainable = False\n",
      "conv2d_400: Trainable = False\n",
      "conv2d_401: Trainable = False\n",
      "batch_normalization_403: Trainable = False\n",
      "batch_normalization_405: Trainable = False\n",
      "batch_normalization_408: Trainable = False\n",
      "batch_normalization_409: Trainable = False\n",
      "activation_399: Trainable = False\n",
      "activation_401: Trainable = False\n",
      "activation_404: Trainable = False\n",
      "activation_405: Trainable = False\n",
      "mixed2: Trainable = False\n",
      "conv2d_403: Trainable = False\n",
      "batch_normalization_411: Trainable = False\n",
      "activation_407: Trainable = False\n",
      "conv2d_404: Trainable = False\n",
      "batch_normalization_412: Trainable = False\n",
      "activation_408: Trainable = False\n",
      "conv2d_402: Trainable = False\n",
      "conv2d_405: Trainable = False\n",
      "batch_normalization_410: Trainable = False\n",
      "batch_normalization_413: Trainable = False\n",
      "activation_406: Trainable = False\n",
      "activation_409: Trainable = False\n",
      "max_pooling2d_18: Trainable = False\n",
      "mixed3: Trainable = False\n",
      "conv2d_410: Trainable = False\n",
      "batch_normalization_418: Trainable = False\n",
      "activation_414: Trainable = False\n",
      "conv2d_411: Trainable = False\n",
      "batch_normalization_419: Trainable = False\n",
      "activation_415: Trainable = False\n",
      "conv2d_407: Trainable = False\n",
      "conv2d_412: Trainable = False\n",
      "batch_normalization_415: Trainable = False\n",
      "batch_normalization_420: Trainable = False\n",
      "activation_411: Trainable = False\n",
      "activation_416: Trainable = False\n",
      "conv2d_408: Trainable = False\n",
      "conv2d_413: Trainable = False\n",
      "batch_normalization_416: Trainable = False\n",
      "batch_normalization_421: Trainable = False\n",
      "activation_412: Trainable = False\n",
      "activation_417: Trainable = False\n",
      "average_pooling2d_39: Trainable = False\n",
      "conv2d_406: Trainable = False\n",
      "conv2d_409: Trainable = False\n",
      "conv2d_414: Trainable = False\n",
      "conv2d_415: Trainable = False\n",
      "batch_normalization_414: Trainable = False\n",
      "batch_normalization_417: Trainable = False\n",
      "batch_normalization_422: Trainable = False\n",
      "batch_normalization_423: Trainable = False\n",
      "activation_410: Trainable = False\n",
      "activation_413: Trainable = False\n",
      "activation_418: Trainable = False\n",
      "activation_419: Trainable = False\n",
      "mixed4: Trainable = False\n",
      "conv2d_420: Trainable = False\n",
      "batch_normalization_428: Trainable = False\n",
      "activation_424: Trainable = False\n",
      "conv2d_421: Trainable = False\n",
      "batch_normalization_429: Trainable = False\n",
      "activation_425: Trainable = False\n",
      "conv2d_417: Trainable = False\n",
      "conv2d_422: Trainable = False\n",
      "batch_normalization_425: Trainable = False\n",
      "batch_normalization_430: Trainable = False\n",
      "activation_421: Trainable = False\n",
      "activation_426: Trainable = False\n",
      "conv2d_418: Trainable = False\n",
      "conv2d_423: Trainable = False\n",
      "batch_normalization_426: Trainable = False\n",
      "batch_normalization_431: Trainable = False\n",
      "activation_422: Trainable = False\n",
      "activation_427: Trainable = False\n",
      "average_pooling2d_40: Trainable = False\n",
      "conv2d_416: Trainable = False\n",
      "conv2d_419: Trainable = False\n",
      "conv2d_424: Trainable = False\n",
      "conv2d_425: Trainable = False\n",
      "batch_normalization_424: Trainable = False\n",
      "batch_normalization_427: Trainable = False\n",
      "batch_normalization_432: Trainable = False\n",
      "batch_normalization_433: Trainable = False\n",
      "activation_420: Trainable = False\n",
      "activation_423: Trainable = False\n",
      "activation_428: Trainable = False\n",
      "activation_429: Trainable = False\n",
      "mixed5: Trainable = False\n",
      "conv2d_430: Trainable = False\n",
      "batch_normalization_438: Trainable = False\n",
      "activation_434: Trainable = False\n",
      "conv2d_431: Trainable = False\n",
      "batch_normalization_439: Trainable = False\n",
      "activation_435: Trainable = False\n",
      "conv2d_427: Trainable = False\n",
      "conv2d_432: Trainable = False\n",
      "batch_normalization_435: Trainable = False\n",
      "batch_normalization_440: Trainable = False\n",
      "activation_431: Trainable = False\n",
      "activation_436: Trainable = False\n",
      "conv2d_428: Trainable = False\n",
      "conv2d_433: Trainable = False\n",
      "batch_normalization_436: Trainable = False\n",
      "batch_normalization_441: Trainable = False\n",
      "activation_432: Trainable = False\n",
      "activation_437: Trainable = False\n",
      "average_pooling2d_41: Trainable = False\n",
      "conv2d_426: Trainable = False\n",
      "conv2d_429: Trainable = False\n",
      "conv2d_434: Trainable = False\n",
      "conv2d_435: Trainable = False\n",
      "batch_normalization_434: Trainable = False\n",
      "batch_normalization_437: Trainable = False\n",
      "batch_normalization_442: Trainable = False\n",
      "batch_normalization_443: Trainable = False\n",
      "activation_430: Trainable = False\n",
      "activation_433: Trainable = False\n",
      "activation_438: Trainable = False\n",
      "activation_439: Trainable = False\n",
      "mixed6: Trainable = False\n",
      "conv2d_440: Trainable = False\n",
      "batch_normalization_448: Trainable = False\n",
      "activation_444: Trainable = False\n",
      "conv2d_441: Trainable = False\n",
      "batch_normalization_449: Trainable = False\n",
      "activation_445: Trainable = False\n",
      "conv2d_437: Trainable = False\n",
      "conv2d_442: Trainable = False\n",
      "batch_normalization_445: Trainable = False\n",
      "batch_normalization_450: Trainable = False\n",
      "activation_441: Trainable = False\n",
      "activation_446: Trainable = False\n",
      "conv2d_438: Trainable = False\n",
      "conv2d_443: Trainable = False\n",
      "batch_normalization_446: Trainable = False\n",
      "batch_normalization_451: Trainable = False\n",
      "activation_442: Trainable = False\n",
      "activation_447: Trainable = False\n",
      "average_pooling2d_42: Trainable = False\n",
      "conv2d_436: Trainable = False\n",
      "conv2d_439: Trainable = False\n",
      "conv2d_444: Trainable = False\n",
      "conv2d_445: Trainable = False\n",
      "batch_normalization_444: Trainable = False\n",
      "batch_normalization_447: Trainable = False\n",
      "batch_normalization_452: Trainable = False\n",
      "batch_normalization_453: Trainable = False\n",
      "activation_440: Trainable = False\n",
      "activation_443: Trainable = False\n",
      "activation_448: Trainable = False\n",
      "activation_449: Trainable = False\n",
      "mixed7: Trainable = False\n",
      "conv2d_448: Trainable = False\n",
      "batch_normalization_456: Trainable = False\n",
      "activation_452: Trainable = False\n",
      "conv2d_449: Trainable = False\n",
      "batch_normalization_457: Trainable = False\n",
      "activation_453: Trainable = False\n",
      "conv2d_446: Trainable = False\n",
      "conv2d_450: Trainable = False\n",
      "batch_normalization_454: Trainable = False\n",
      "batch_normalization_458: Trainable = False\n",
      "activation_450: Trainable = False\n",
      "activation_454: Trainable = False\n",
      "conv2d_447: Trainable = False\n",
      "conv2d_451: Trainable = False\n",
      "batch_normalization_455: Trainable = False\n",
      "batch_normalization_459: Trainable = False\n",
      "activation_451: Trainable = False\n",
      "activation_455: Trainable = False\n",
      "max_pooling2d_19: Trainable = False\n",
      "mixed8: Trainable = False\n",
      "conv2d_456: Trainable = False\n",
      "batch_normalization_464: Trainable = False\n",
      "activation_460: Trainable = False\n",
      "conv2d_453: Trainable = False\n",
      "conv2d_457: Trainable = False\n",
      "batch_normalization_461: Trainable = False\n",
      "batch_normalization_465: Trainable = False\n",
      "activation_457: Trainable = False\n",
      "activation_461: Trainable = False\n",
      "conv2d_454: Trainable = False\n",
      "conv2d_455: Trainable = False\n",
      "conv2d_458: Trainable = False\n",
      "conv2d_459: Trainable = False\n",
      "average_pooling2d_43: Trainable = False\n",
      "conv2d_452: Trainable = False\n",
      "batch_normalization_462: Trainable = False\n",
      "batch_normalization_463: Trainable = False\n",
      "batch_normalization_466: Trainable = False\n",
      "batch_normalization_467: Trainable = False\n",
      "conv2d_460: Trainable = False\n",
      "batch_normalization_460: Trainable = False\n",
      "activation_458: Trainable = False\n",
      "activation_459: Trainable = False\n",
      "activation_462: Trainable = False\n",
      "activation_463: Trainable = False\n",
      "batch_normalization_468: Trainable = False\n",
      "activation_456: Trainable = False\n",
      "mixed9_0: Trainable = False\n",
      "concatenate_8: Trainable = False\n",
      "activation_464: Trainable = False\n",
      "mixed9: Trainable = False\n",
      "conv2d_465: Trainable = False\n",
      "batch_normalization_473: Trainable = False\n",
      "activation_469: Trainable = False\n",
      "conv2d_462: Trainable = False\n",
      "conv2d_466: Trainable = False\n",
      "batch_normalization_470: Trainable = False\n",
      "batch_normalization_474: Trainable = False\n",
      "activation_466: Trainable = False\n",
      "activation_470: Trainable = False\n",
      "conv2d_463: Trainable = False\n",
      "conv2d_464: Trainable = False\n",
      "conv2d_467: Trainable = False\n",
      "conv2d_468: Trainable = False\n",
      "average_pooling2d_44: Trainable = False\n",
      "conv2d_461: Trainable = False\n",
      "batch_normalization_471: Trainable = False\n",
      "batch_normalization_472: Trainable = False\n",
      "batch_normalization_475: Trainable = False\n",
      "batch_normalization_476: Trainable = False\n",
      "conv2d_469: Trainable = False\n",
      "batch_normalization_469: Trainable = False\n",
      "activation_467: Trainable = True\n",
      "activation_468: Trainable = True\n",
      "activation_471: Trainable = True\n",
      "activation_472: Trainable = True\n",
      "batch_normalization_477: Trainable = True\n",
      "activation_465: Trainable = True\n",
      "mixed9_1: Trainable = True\n",
      "concatenate_9: Trainable = True\n",
      "activation_473: Trainable = True\n",
      "mixed10: Trainable = True\n"
     ]
    },
    {
     "data": {
      "text/html": [
       "<pre style=\"white-space:pre;overflow-x:auto;line-height:normal;font-family:Menlo,'DejaVu Sans Mono',consolas,'Courier New',monospace\"><span style=\"font-weight: bold\">Model: \"sequential_4\"</span>\n",
       "</pre>\n"
      ],
      "text/plain": [
       "\u001b[1mModel: \"sequential_4\"\u001b[0m\n"
      ]
     },
     "metadata": {},
     "output_type": "display_data"
    },
    {
     "data": {
      "text/html": [
       "<pre style=\"white-space:pre;overflow-x:auto;line-height:normal;font-family:Menlo,'DejaVu Sans Mono',consolas,'Courier New',monospace\">┏━━━━━━━━━━━━━━━━━━━━━━━━━━━━━━━━━━━━━━┳━━━━━━━━━━━━━━━━━━━━━━━━━━━━━┳━━━━━━━━━━━━━━━━━┓\n",
       "┃<span style=\"font-weight: bold\"> Layer (type)                         </span>┃<span style=\"font-weight: bold\"> Output Shape                </span>┃<span style=\"font-weight: bold\">         Param # </span>┃\n",
       "┡━━━━━━━━━━━━━━━━━━━━━━━━━━━━━━━━━━━━━━╇━━━━━━━━━━━━━━━━━━━━━━━━━━━━━╇━━━━━━━━━━━━━━━━━┩\n",
       "│ inception_v3 (<span style=\"color: #0087ff; text-decoration-color: #0087ff\">Functional</span>)            │ (<span style=\"color: #00d7ff; text-decoration-color: #00d7ff\">None</span>, <span style=\"color: #00af00; text-decoration-color: #00af00\">2</span>, <span style=\"color: #00af00; text-decoration-color: #00af00\">2</span>, <span style=\"color: #00af00; text-decoration-color: #00af00\">2048</span>)          │      <span style=\"color: #00af00; text-decoration-color: #00af00\">21,802,784</span> │\n",
       "├──────────────────────────────────────┼─────────────────────────────┼─────────────────┤\n",
       "│ flatten_4 (<span style=\"color: #0087ff; text-decoration-color: #0087ff\">Flatten</span>)                  │ (<span style=\"color: #00d7ff; text-decoration-color: #00d7ff\">None</span>, <span style=\"color: #00af00; text-decoration-color: #00af00\">8192</span>)                │               <span style=\"color: #00af00; text-decoration-color: #00af00\">0</span> │\n",
       "├──────────────────────────────────────┼─────────────────────────────┼─────────────────┤\n",
       "│ batch_normalization_478              │ (<span style=\"color: #00d7ff; text-decoration-color: #00d7ff\">None</span>, <span style=\"color: #00af00; text-decoration-color: #00af00\">8192</span>)                │          <span style=\"color: #00af00; text-decoration-color: #00af00\">32,768</span> │\n",
       "│ (<span style=\"color: #0087ff; text-decoration-color: #0087ff\">BatchNormalization</span>)                 │                             │                 │\n",
       "├──────────────────────────────────────┼─────────────────────────────┼─────────────────┤\n",
       "│ dense_8 (<span style=\"color: #0087ff; text-decoration-color: #0087ff\">Dense</span>)                      │ (<span style=\"color: #00d7ff; text-decoration-color: #00d7ff\">None</span>, <span style=\"color: #00af00; text-decoration-color: #00af00\">256</span>)                 │       <span style=\"color: #00af00; text-decoration-color: #00af00\">2,097,408</span> │\n",
       "├──────────────────────────────────────┼─────────────────────────────┼─────────────────┤\n",
       "│ batch_normalization_479              │ (<span style=\"color: #00d7ff; text-decoration-color: #00d7ff\">None</span>, <span style=\"color: #00af00; text-decoration-color: #00af00\">256</span>)                 │           <span style=\"color: #00af00; text-decoration-color: #00af00\">1,024</span> │\n",
       "│ (<span style=\"color: #0087ff; text-decoration-color: #0087ff\">BatchNormalization</span>)                 │                             │                 │\n",
       "├──────────────────────────────────────┼─────────────────────────────┼─────────────────┤\n",
       "│ activation_474 (<span style=\"color: #0087ff; text-decoration-color: #0087ff\">Activation</span>)          │ (<span style=\"color: #00d7ff; text-decoration-color: #00d7ff\">None</span>, <span style=\"color: #00af00; text-decoration-color: #00af00\">256</span>)                 │               <span style=\"color: #00af00; text-decoration-color: #00af00\">0</span> │\n",
       "├──────────────────────────────────────┼─────────────────────────────┼─────────────────┤\n",
       "│ dropout_4 (<span style=\"color: #0087ff; text-decoration-color: #0087ff\">Dropout</span>)                  │ (<span style=\"color: #00d7ff; text-decoration-color: #00d7ff\">None</span>, <span style=\"color: #00af00; text-decoration-color: #00af00\">256</span>)                 │               <span style=\"color: #00af00; text-decoration-color: #00af00\">0</span> │\n",
       "├──────────────────────────────────────┼─────────────────────────────┼─────────────────┤\n",
       "│ dense_9 (<span style=\"color: #0087ff; text-decoration-color: #0087ff\">Dense</span>)                      │ (<span style=\"color: #00d7ff; text-decoration-color: #00d7ff\">None</span>, <span style=\"color: #00af00; text-decoration-color: #00af00\">2</span>)                   │             <span style=\"color: #00af00; text-decoration-color: #00af00\">514</span> │\n",
       "└──────────────────────────────────────┴─────────────────────────────┴─────────────────┘\n",
       "</pre>\n"
      ],
      "text/plain": [
       "┏━━━━━━━━━━━━━━━━━━━━━━━━━━━━━━━━━━━━━━┳━━━━━━━━━━━━━━━━━━━━━━━━━━━━━┳━━━━━━━━━━━━━━━━━┓\n",
       "┃\u001b[1m \u001b[0m\u001b[1mLayer (type)                        \u001b[0m\u001b[1m \u001b[0m┃\u001b[1m \u001b[0m\u001b[1mOutput Shape               \u001b[0m\u001b[1m \u001b[0m┃\u001b[1m \u001b[0m\u001b[1m        Param #\u001b[0m\u001b[1m \u001b[0m┃\n",
       "┡━━━━━━━━━━━━━━━━━━━━━━━━━━━━━━━━━━━━━━╇━━━━━━━━━━━━━━━━━━━━━━━━━━━━━╇━━━━━━━━━━━━━━━━━┩\n",
       "│ inception_v3 (\u001b[38;5;33mFunctional\u001b[0m)            │ (\u001b[38;5;45mNone\u001b[0m, \u001b[38;5;34m2\u001b[0m, \u001b[38;5;34m2\u001b[0m, \u001b[38;5;34m2048\u001b[0m)          │      \u001b[38;5;34m21,802,784\u001b[0m │\n",
       "├──────────────────────────────────────┼─────────────────────────────┼─────────────────┤\n",
       "│ flatten_4 (\u001b[38;5;33mFlatten\u001b[0m)                  │ (\u001b[38;5;45mNone\u001b[0m, \u001b[38;5;34m8192\u001b[0m)                │               \u001b[38;5;34m0\u001b[0m │\n",
       "├──────────────────────────────────────┼─────────────────────────────┼─────────────────┤\n",
       "│ batch_normalization_478              │ (\u001b[38;5;45mNone\u001b[0m, \u001b[38;5;34m8192\u001b[0m)                │          \u001b[38;5;34m32,768\u001b[0m │\n",
       "│ (\u001b[38;5;33mBatchNormalization\u001b[0m)                 │                             │                 │\n",
       "├──────────────────────────────────────┼─────────────────────────────┼─────────────────┤\n",
       "│ dense_8 (\u001b[38;5;33mDense\u001b[0m)                      │ (\u001b[38;5;45mNone\u001b[0m, \u001b[38;5;34m256\u001b[0m)                 │       \u001b[38;5;34m2,097,408\u001b[0m │\n",
       "├──────────────────────────────────────┼─────────────────────────────┼─────────────────┤\n",
       "│ batch_normalization_479              │ (\u001b[38;5;45mNone\u001b[0m, \u001b[38;5;34m256\u001b[0m)                 │           \u001b[38;5;34m1,024\u001b[0m │\n",
       "│ (\u001b[38;5;33mBatchNormalization\u001b[0m)                 │                             │                 │\n",
       "├──────────────────────────────────────┼─────────────────────────────┼─────────────────┤\n",
       "│ activation_474 (\u001b[38;5;33mActivation\u001b[0m)          │ (\u001b[38;5;45mNone\u001b[0m, \u001b[38;5;34m256\u001b[0m)                 │               \u001b[38;5;34m0\u001b[0m │\n",
       "├──────────────────────────────────────┼─────────────────────────────┼─────────────────┤\n",
       "│ dropout_4 (\u001b[38;5;33mDropout\u001b[0m)                  │ (\u001b[38;5;45mNone\u001b[0m, \u001b[38;5;34m256\u001b[0m)                 │               \u001b[38;5;34m0\u001b[0m │\n",
       "├──────────────────────────────────────┼─────────────────────────────┼─────────────────┤\n",
       "│ dense_9 (\u001b[38;5;33mDense\u001b[0m)                      │ (\u001b[38;5;45mNone\u001b[0m, \u001b[38;5;34m2\u001b[0m)                   │             \u001b[38;5;34m514\u001b[0m │\n",
       "└──────────────────────────────────────┴─────────────────────────────┴─────────────────┘\n"
      ]
     },
     "metadata": {},
     "output_type": "display_data"
    },
    {
     "data": {
      "text/html": [
       "<pre style=\"white-space:pre;overflow-x:auto;line-height:normal;font-family:Menlo,'DejaVu Sans Mono',consolas,'Courier New',monospace\"><span style=\"font-weight: bold\"> Total params: </span><span style=\"color: #00af00; text-decoration-color: #00af00\">23,934,498</span> (91.30 MB)\n",
       "</pre>\n"
      ],
      "text/plain": [
       "\u001b[1m Total params: \u001b[0m\u001b[38;5;34m23,934,498\u001b[0m (91.30 MB)\n"
      ]
     },
     "metadata": {},
     "output_type": "display_data"
    },
    {
     "data": {
      "text/html": [
       "<pre style=\"white-space:pre;overflow-x:auto;line-height:normal;font-family:Menlo,'DejaVu Sans Mono',consolas,'Courier New',monospace\"><span style=\"font-weight: bold\"> Trainable params: </span><span style=\"color: #00af00; text-decoration-color: #00af00\">2,115,010</span> (8.07 MB)\n",
       "</pre>\n"
      ],
      "text/plain": [
       "\u001b[1m Trainable params: \u001b[0m\u001b[38;5;34m2,115,010\u001b[0m (8.07 MB)\n"
      ]
     },
     "metadata": {},
     "output_type": "display_data"
    },
    {
     "data": {
      "text/html": [
       "<pre style=\"white-space:pre;overflow-x:auto;line-height:normal;font-family:Menlo,'DejaVu Sans Mono',consolas,'Courier New',monospace\"><span style=\"font-weight: bold\"> Non-trainable params: </span><span style=\"color: #00af00; text-decoration-color: #00af00\">21,819,488</span> (83.23 MB)\n",
       "</pre>\n"
      ],
      "text/plain": [
       "\u001b[1m Non-trainable params: \u001b[0m\u001b[38;5;34m21,819,488\u001b[0m (83.23 MB)\n"
      ]
     },
     "metadata": {},
     "output_type": "display_data"
    }
   ],
   "source": [
    "from keras.models import Sequential\n",
    "from keras.layers import Flatten, BatchNormalization, Dense, Activation, Dropout\n",
    "from keras.optimizers import Adam\n",
    "from keras.applications import InceptionV3\n",
    "\n",
    "# Base Model\n",
    "base_Neural_Net = InceptionV3(input_shape=(120, 120, 3), weights='imagenet', include_top=False)\n",
    "\n",
    "for layer in base_Neural_Net.layers:\n",
    "    layer.trainable = False\n",
    "\n",
    "for layer in base_Neural_Net.layers[-10:]:\n",
    "    layer.trainable = True\n",
    "    \n",
    "for layer in base_Neural_Net.layers:\n",
    "    print(f\"{layer.name}: Trainable = {layer.trainable}\")\n",
    "\n",
    "# Create a Sequential model\n",
    "model_1 = Sequential()\n",
    "model_1.add(base_Neural_Net)\n",
    "model_1.add(Flatten())\n",
    "model_1.add(BatchNormalization())\n",
    "model_1.add(Dense(256, kernel_initializer='he_uniform'))\n",
    "model_1.add(BatchNormalization())\n",
    "model_1.add(Activation('relu'))\n",
    "model_1.add(Dropout(0.3))\n",
    "model_1.add(Dense(2, activation='softmax'))  # Categorical classification output\n",
    "\n",
    "# Compile the model with a smaller learning rate for fine-tuning\n",
    "model_1.compile(\n",
    "    loss='categorical_crossentropy',\n",
    "    optimizer=Adam(learning_rate=1e-4),  # Smaller learning rate for fine-tuning\n",
    "    metrics=['accuracy', 'AUC']\n",
    ")\n",
    "\n",
    "model_1.build((None, 120, 120, 3))\n",
    "\n",
    "# Print the model summary\n",
    "model_1.summary()\n",
    "\n"
   ]
  },
  {
   "cell_type": "code",
   "execution_count": 21,
   "id": "502993bc-84c9-40a4-b317-010d44b8c574",
   "metadata": {},
   "outputs": [
    {
     "name": "stdout",
     "output_type": "stream",
     "text": [
      "Epoch 1/10\n",
      "\u001b[1m60/60\u001b[0m \u001b[32m━━━━━━━━━━━━━━━━━━━━\u001b[0m\u001b[37m\u001b[0m \u001b[1m0s\u001b[0m 217ms/step - AUC: 0.9567 - accuracy: 0.8999 - loss: 0.2691\n",
      "Epoch 1: val_accuracy did not improve from 0.91304\n",
      "\u001b[1m60/60\u001b[0m \u001b[32m━━━━━━━━━━━━━━━━━━━━\u001b[0m\u001b[37m\u001b[0m \u001b[1m27s\u001b[0m 435ms/step - AUC: 0.9567 - accuracy: 0.8998 - loss: 0.2692 - val_AUC: 0.9693 - val_accuracy: 0.9080 - val_loss: 0.2254\n",
      "Epoch 2/10\n",
      "\u001b[1m60/60\u001b[0m \u001b[32m━━━━━━━━━━━━━━━━━━━━\u001b[0m\u001b[37m\u001b[0m \u001b[1m0s\u001b[0m 209ms/step - AUC: 0.9660 - accuracy: 0.9003 - loss: 0.2358\n",
      "Epoch 2: val_accuracy improved from 0.91304 to 0.92183, saving model to model_InceptionV3.keras\n",
      "\u001b[1m60/60\u001b[0m \u001b[32m━━━━━━━━━━━━━━━━━━━━\u001b[0m\u001b[37m\u001b[0m \u001b[1m26s\u001b[0m 439ms/step - AUC: 0.9660 - accuracy: 0.9004 - loss: 0.2358 - val_AUC: 0.9745 - val_accuracy: 0.9218 - val_loss: 0.2013\n",
      "Epoch 3/10\n",
      "\u001b[1m60/60\u001b[0m \u001b[32m━━━━━━━━━━━━━━━━━━━━\u001b[0m\u001b[37m\u001b[0m \u001b[1m0s\u001b[0m 204ms/step - AUC: 0.9517 - accuracy: 0.8821 - loss: 0.2840\n",
      "Epoch 3: val_accuracy did not improve from 0.92183\n",
      "\u001b[1m60/60\u001b[0m \u001b[32m━━━━━━━━━━━━━━━━━━━━\u001b[0m\u001b[37m\u001b[0m \u001b[1m25s\u001b[0m 425ms/step - AUC: 0.9517 - accuracy: 0.8821 - loss: 0.2840 - val_AUC: 0.9733 - val_accuracy: 0.9154 - val_loss: 0.2099\n",
      "Epoch 4/10\n",
      "\u001b[1m60/60\u001b[0m \u001b[32m━━━━━━━━━━━━━━━━━━━━\u001b[0m\u001b[37m\u001b[0m \u001b[1m0s\u001b[0m 198ms/step - AUC: 0.9618 - accuracy: 0.9009 - loss: 0.2501\n",
      "Epoch 4: val_accuracy did not improve from 0.92183\n",
      "\u001b[1m60/60\u001b[0m \u001b[32m━━━━━━━━━━━━━━━━━━━━\u001b[0m\u001b[37m\u001b[0m \u001b[1m25s\u001b[0m 419ms/step - AUC: 0.9618 - accuracy: 0.9009 - loss: 0.2499 - val_AUC: 0.9728 - val_accuracy: 0.9218 - val_loss: 0.2112\n",
      "Epoch 5/10\n",
      "\u001b[1m60/60\u001b[0m \u001b[32m━━━━━━━━━━━━━━━━━━━━\u001b[0m\u001b[37m\u001b[0m \u001b[1m0s\u001b[0m 182ms/step - AUC: 0.9677 - accuracy: 0.9067 - loss: 0.2318\n",
      "Epoch 5: val_accuracy improved from 0.92183 to 0.92831, saving model to model_InceptionV3.keras\n",
      "\u001b[1m60/60\u001b[0m \u001b[32m━━━━━━━━━━━━━━━━━━━━\u001b[0m\u001b[37m\u001b[0m \u001b[1m25s\u001b[0m 422ms/step - AUC: 0.9678 - accuracy: 0.9067 - loss: 0.2318 - val_AUC: 0.9775 - val_accuracy: 0.9283 - val_loss: 0.1906\n",
      "Epoch 6/10\n",
      "\u001b[1m60/60\u001b[0m \u001b[32m━━━━━━━━━━━━━━━━━━━━\u001b[0m\u001b[37m\u001b[0m \u001b[1m0s\u001b[0m 154ms/step - AUC: 0.9658 - accuracy: 0.9005 - loss: 0.2384\n",
      "Epoch 6: val_accuracy improved from 0.92831 to 0.92877, saving model to model_InceptionV3.keras\n",
      "\u001b[1m60/60\u001b[0m \u001b[32m━━━━━━━━━━━━━━━━━━━━\u001b[0m\u001b[37m\u001b[0m \u001b[1m24s\u001b[0m 411ms/step - AUC: 0.9658 - accuracy: 0.9004 - loss: 0.2384 - val_AUC: 0.9770 - val_accuracy: 0.9288 - val_loss: 0.1917\n",
      "Epoch 7/10\n",
      "\u001b[1m60/60\u001b[0m \u001b[32m━━━━━━━━━━━━━━━━━━━━\u001b[0m\u001b[37m\u001b[0m \u001b[1m0s\u001b[0m 148ms/step - AUC: 0.9642 - accuracy: 0.9029 - loss: 0.2413\n",
      "Epoch 7: val_accuracy did not improve from 0.92877\n",
      "\u001b[1m60/60\u001b[0m \u001b[32m━━━━━━━━━━━━━━━━━━━━\u001b[0m\u001b[37m\u001b[0m \u001b[1m23s\u001b[0m 392ms/step - AUC: 0.9642 - accuracy: 0.9028 - loss: 0.2412 - val_AUC: 0.9741 - val_accuracy: 0.9218 - val_loss: 0.2047\n",
      "Epoch 8/10\n",
      "\u001b[1m60/60\u001b[0m \u001b[32m━━━━━━━━━━━━━━━━━━━━\u001b[0m\u001b[37m\u001b[0m \u001b[1m0s\u001b[0m 146ms/step - AUC: 0.9563 - accuracy: 0.8873 - loss: 0.2714\n",
      "Epoch 8: val_accuracy did not improve from 0.92877\n",
      "\u001b[1m60/60\u001b[0m \u001b[32m━━━━━━━━━━━━━━━━━━━━\u001b[0m\u001b[37m\u001b[0m \u001b[1m22s\u001b[0m 375ms/step - AUC: 0.9564 - accuracy: 0.8874 - loss: 0.2711 - val_AUC: 0.9752 - val_accuracy: 0.9191 - val_loss: 0.2008\n",
      "Epoch 9/10\n",
      "\u001b[1m60/60\u001b[0m \u001b[32m━━━━━━━━━━━━━━━━━━━━\u001b[0m\u001b[37m\u001b[0m \u001b[1m0s\u001b[0m 147ms/step - AUC: 0.9633 - accuracy: 0.8912 - loss: 0.2452\n",
      "Epoch 9: val_accuracy did not improve from 0.92877\n",
      "\u001b[1m60/60\u001b[0m \u001b[32m━━━━━━━━━━━━━━━━━━━━\u001b[0m\u001b[37m\u001b[0m \u001b[1m22s\u001b[0m 377ms/step - AUC: 0.9633 - accuracy: 0.8912 - loss: 0.2453 - val_AUC: 0.9785 - val_accuracy: 0.9288 - val_loss: 0.1871\n",
      "Epoch 10/10\n",
      "\u001b[1m60/60\u001b[0m \u001b[32m━━━━━━━━━━━━━━━━━━━━\u001b[0m\u001b[37m\u001b[0m \u001b[1m0s\u001b[0m 141ms/step - AUC: 0.9763 - accuracy: 0.9168 - loss: 0.1981\n",
      "Epoch 10: val_accuracy did not improve from 0.92877\n",
      "\u001b[1m60/60\u001b[0m \u001b[32m━━━━━━━━━━━━━━━━━━━━\u001b[0m\u001b[37m\u001b[0m \u001b[1m21s\u001b[0m 350ms/step - AUC: 0.9763 - accuracy: 0.9168 - loss: 0.1982 - val_AUC: 0.9742 - val_accuracy: 0.9181 - val_loss: 0.2046\n"
     ]
    }
   ],
   "source": [
    "EPOCHS = 10\n",
    "est = EarlyStopping(\n",
    "    monitor='val_accuracy', \n",
    "    mode='max',\n",
    "    patience=8\n",
    ")\n",
    "\n",
    "history_01 = model_1.fit(\n",
    "    train_generator,\n",
    "    batch_size=32,\n",
    "    epochs=EPOCHS,\n",
    "    steps_per_epoch=60,\n",
    "    validation_data=valid_generator,\n",
    "    callbacks=[est,cp]\n",
    ")"
   ]
  },
  {
   "cell_type": "code",
   "execution_count": 22,
   "id": "2d8f0136-bffc-497d-92a4-2f3c9f172ca7",
   "metadata": {},
   "outputs": [],
   "source": [
    "def plot_metrics(history):\n",
    "    \n",
    "    train_loss = history.history['loss']\n",
    "    val_loss = history.history['val_loss']\n",
    "    train_acc = history.history['accuracy']\n",
    "    val_acc = history.history['val_accuracy']\n",
    "    \n",
    "    # Loss\n",
    "    plt.figure()\n",
    "    plt.plot(train_loss, label='Training Loss')\n",
    "    plt.plot(val_loss, label='Validation Loss')\n",
    "    plt.title('Loss')\n",
    "    plt.legend()\n",
    "    plt.show()\n",
    "    \n",
    "    # Accuracy\n",
    "    plt.figure()\n",
    "    plt.plot(train_acc, label='Training Accuracy')\n",
    "    plt.plot(val_acc, label='Validation Accuracy')\n",
    "    plt.title('Accuracy')\n",
    "    plt.legend()\n",
    "    plt.show()"
   ]
  },
  {
   "cell_type": "code",
   "execution_count": 23,
   "id": "13f934ed-1e2d-4dad-a5a5-c82436ed8049",
   "metadata": {},
   "outputs": [
    {
     "data": {
      "image/png": "[encoded data removed]",
      "text/plain": [
       "<Figure size 640x480 with 1 Axes>"
      ]
     },
     "metadata": {},
     "output_type": "display_data"
    },
    {
     "data": {
      "image/png": "[encoded data removed]",
      "text/plain": [
       "<Figure size 640x480 with 1 Axes>"
      ]
     },
     "metadata": {},
     "output_type": "display_data"
    }
   ],
   "source": [
    "plot_metrics(history_01) "
   ]
  },
  {
   "cell_type": "code",
   "execution_count": 24,
   "id": "6bccabbf-32b7-4ce6-9f23-516667a67a9e",
   "metadata": {},
   "outputs": [
    {
     "name": "stdout",
     "output_type": "stream",
     "text": [
      "input_layer_10: Trainable = True\n",
      "conv2d_470: Trainable = True\n",
      "batch_normalization_480: Trainable = True\n",
      "activation_475: Trainable = True\n",
      "conv2d_471: Trainable = True\n",
      "batch_normalization_481: Trainable = True\n",
      "activation_476: Trainable = True\n",
      "conv2d_472: Trainable = True\n",
      "batch_normalization_482: Trainable = True\n",
      "activation_477: Trainable = True\n",
      "max_pooling2d_20: Trainable = True\n",
      "conv2d_473: Trainable = True\n",
      "batch_normalization_483: Trainable = True\n",
      "activation_478: Trainable = True\n",
      "conv2d_474: Trainable = True\n",
      "batch_normalization_484: Trainable = True\n",
      "activation_479: Trainable = True\n",
      "max_pooling2d_21: Trainable = True\n",
      "conv2d_478: Trainable = True\n",
      "batch_normalization_488: Trainable = True\n",
      "activation_483: Trainable = True\n",
      "conv2d_476: Trainable = True\n",
      "conv2d_479: Trainable = True\n",
      "batch_normalization_486: Trainable = True\n",
      "batch_normalization_489: Trainable = True\n",
      "activation_481: Trainable = True\n",
      "activation_484: Trainable = True\n",
      "average_pooling2d_45: Trainable = True\n",
      "conv2d_475: Trainable = True\n",
      "conv2d_477: Trainable = True\n",
      "conv2d_480: Trainable = True\n",
      "conv2d_481: Trainable = True\n",
      "batch_normalization_485: Trainable = True\n",
      "batch_normalization_487: Trainable = True\n",
      "batch_normalization_490: Trainable = True\n",
      "batch_normalization_491: Trainable = True\n",
      "activation_480: Trainable = True\n",
      "activation_482: Trainable = True\n",
      "activation_485: Trainable = True\n",
      "activation_486: Trainable = True\n",
      "mixed0: Trainable = True\n",
      "conv2d_485: Trainable = True\n",
      "batch_normalization_495: Trainable = True\n",
      "activation_490: Trainable = True\n",
      "conv2d_483: Trainable = True\n",
      "conv2d_486: Trainable = True\n",
      "batch_normalization_493: Trainable = True\n",
      "batch_normalization_496: Trainable = True\n",
      "activation_488: Trainable = True\n",
      "activation_491: Trainable = True\n",
      "average_pooling2d_46: Trainable = True\n",
      "conv2d_482: Trainable = True\n",
      "conv2d_484: Trainable = True\n",
      "conv2d_487: Trainable = True\n",
      "conv2d_488: Trainable = True\n",
      "batch_normalization_492: Trainable = True\n",
      "batch_normalization_494: Trainable = True\n",
      "batch_normalization_497: Trainable = True\n",
      "batch_normalization_498: Trainable = True\n",
      "activation_487: Trainable = True\n",
      "activation_489: Trainable = True\n",
      "activation_492: Trainable = True\n",
      "activation_493: Trainable = True\n",
      "mixed1: Trainable = True\n",
      "conv2d_492: Trainable = True\n",
      "batch_normalization_502: Trainable = True\n",
      "activation_497: Trainable = True\n",
      "conv2d_490: Trainable = True\n",
      "conv2d_493: Trainable = True\n",
      "batch_normalization_500: Trainable = True\n",
      "batch_normalization_503: Trainable = True\n",
      "activation_495: Trainable = True\n",
      "activation_498: Trainable = True\n",
      "average_pooling2d_47: Trainable = True\n",
      "conv2d_489: Trainable = True\n",
      "conv2d_491: Trainable = True\n",
      "conv2d_494: Trainable = True\n",
      "conv2d_495: Trainable = True\n",
      "batch_normalization_499: Trainable = True\n",
      "batch_normalization_501: Trainable = True\n",
      "batch_normalization_504: Trainable = True\n",
      "batch_normalization_505: Trainable = True\n",
      "activation_494: Trainable = True\n",
      "activation_496: Trainable = True\n",
      "activation_499: Trainable = True\n",
      "activation_500: Trainable = True\n",
      "mixed2: Trainable = True\n",
      "conv2d_497: Trainable = True\n",
      "batch_normalization_507: Trainable = True\n",
      "activation_502: Trainable = True\n",
      "conv2d_498: Trainable = True\n",
      "batch_normalization_508: Trainable = True\n",
      "activation_503: Trainable = True\n",
      "conv2d_496: Trainable = True\n",
      "conv2d_499: Trainable = True\n",
      "batch_normalization_506: Trainable = True\n",
      "batch_normalization_509: Trainable = True\n",
      "activation_501: Trainable = True\n",
      "activation_504: Trainable = True\n",
      "max_pooling2d_22: Trainable = True\n",
      "mixed3: Trainable = True\n",
      "conv2d_504: Trainable = True\n",
      "batch_normalization_514: Trainable = True\n",
      "activation_509: Trainable = True\n",
      "conv2d_505: Trainable = True\n",
      "batch_normalization_515: Trainable = True\n",
      "activation_510: Trainable = True\n",
      "conv2d_501: Trainable = True\n",
      "conv2d_506: Trainable = True\n",
      "batch_normalization_511: Trainable = True\n",
      "batch_normalization_516: Trainable = True\n",
      "activation_506: Trainable = True\n",
      "activation_511: Trainable = True\n",
      "conv2d_502: Trainable = True\n",
      "conv2d_507: Trainable = True\n",
      "batch_normalization_512: Trainable = True\n",
      "batch_normalization_517: Trainable = True\n",
      "activation_507: Trainable = True\n",
      "activation_512: Trainable = True\n",
      "average_pooling2d_48: Trainable = True\n",
      "conv2d_500: Trainable = True\n",
      "conv2d_503: Trainable = True\n",
      "conv2d_508: Trainable = True\n",
      "conv2d_509: Trainable = True\n",
      "batch_normalization_510: Trainable = True\n",
      "batch_normalization_513: Trainable = True\n",
      "batch_normalization_518: Trainable = True\n",
      "batch_normalization_519: Trainable = True\n",
      "activation_505: Trainable = True\n",
      "activation_508: Trainable = True\n",
      "activation_513: Trainable = True\n",
      "activation_514: Trainable = True\n",
      "mixed4: Trainable = True\n",
      "conv2d_514: Trainable = True\n",
      "batch_normalization_524: Trainable = True\n",
      "activation_519: Trainable = True\n",
      "conv2d_515: Trainable = True\n",
      "batch_normalization_525: Trainable = True\n",
      "activation_520: Trainable = True\n",
      "conv2d_511: Trainable = True\n",
      "conv2d_516: Trainable = True\n",
      "batch_normalization_521: Trainable = True\n",
      "batch_normalization_526: Trainable = True\n",
      "activation_516: Trainable = True\n",
      "activation_521: Trainable = True\n",
      "conv2d_512: Trainable = True\n",
      "conv2d_517: Trainable = True\n",
      "batch_normalization_522: Trainable = True\n",
      "batch_normalization_527: Trainable = True\n",
      "activation_517: Trainable = True\n",
      "activation_522: Trainable = True\n",
      "average_pooling2d_49: Trainable = True\n",
      "conv2d_510: Trainable = True\n",
      "conv2d_513: Trainable = True\n",
      "conv2d_518: Trainable = True\n",
      "conv2d_519: Trainable = True\n",
      "batch_normalization_520: Trainable = True\n",
      "batch_normalization_523: Trainable = True\n",
      "batch_normalization_528: Trainable = True\n",
      "batch_normalization_529: Trainable = True\n",
      "activation_515: Trainable = True\n",
      "activation_518: Trainable = True\n",
      "activation_523: Trainable = True\n",
      "activation_524: Trainable = True\n",
      "mixed5: Trainable = True\n",
      "conv2d_524: Trainable = True\n",
      "batch_normalization_534: Trainable = True\n",
      "activation_529: Trainable = True\n",
      "conv2d_525: Trainable = True\n",
      "batch_normalization_535: Trainable = True\n",
      "activation_530: Trainable = True\n",
      "conv2d_521: Trainable = True\n",
      "conv2d_526: Trainable = True\n",
      "batch_normalization_531: Trainable = True\n",
      "batch_normalization_536: Trainable = True\n",
      "activation_526: Trainable = True\n",
      "activation_531: Trainable = True\n",
      "conv2d_522: Trainable = True\n",
      "conv2d_527: Trainable = True\n",
      "batch_normalization_532: Trainable = True\n",
      "batch_normalization_537: Trainable = True\n",
      "activation_527: Trainable = True\n",
      "activation_532: Trainable = True\n",
      "average_pooling2d_50: Trainable = True\n",
      "conv2d_520: Trainable = True\n",
      "conv2d_523: Trainable = True\n",
      "conv2d_528: Trainable = True\n",
      "conv2d_529: Trainable = True\n",
      "batch_normalization_530: Trainable = True\n",
      "batch_normalization_533: Trainable = True\n",
      "batch_normalization_538: Trainable = True\n",
      "batch_normalization_539: Trainable = True\n",
      "activation_525: Trainable = True\n",
      "activation_528: Trainable = True\n",
      "activation_533: Trainable = True\n",
      "activation_534: Trainable = True\n",
      "mixed6: Trainable = True\n",
      "conv2d_534: Trainable = True\n",
      "batch_normalization_544: Trainable = True\n",
      "activation_539: Trainable = True\n",
      "conv2d_535: Trainable = True\n",
      "batch_normalization_545: Trainable = True\n",
      "activation_540: Trainable = True\n",
      "conv2d_531: Trainable = True\n",
      "conv2d_536: Trainable = True\n",
      "batch_normalization_541: Trainable = True\n",
      "batch_normalization_546: Trainable = True\n",
      "activation_536: Trainable = True\n",
      "activation_541: Trainable = True\n",
      "conv2d_532: Trainable = True\n",
      "conv2d_537: Trainable = True\n",
      "batch_normalization_542: Trainable = True\n",
      "batch_normalization_547: Trainable = True\n",
      "activation_537: Trainable = True\n",
      "activation_542: Trainable = True\n",
      "average_pooling2d_51: Trainable = True\n",
      "conv2d_530: Trainable = True\n",
      "conv2d_533: Trainable = True\n",
      "conv2d_538: Trainable = True\n",
      "conv2d_539: Trainable = True\n",
      "batch_normalization_540: Trainable = True\n",
      "batch_normalization_543: Trainable = True\n",
      "batch_normalization_548: Trainable = True\n",
      "batch_normalization_549: Trainable = True\n",
      "activation_535: Trainable = True\n",
      "activation_538: Trainable = True\n",
      "activation_543: Trainable = True\n",
      "activation_544: Trainable = True\n",
      "mixed7: Trainable = True\n",
      "conv2d_542: Trainable = True\n",
      "batch_normalization_552: Trainable = True\n",
      "activation_547: Trainable = True\n",
      "conv2d_543: Trainable = True\n",
      "batch_normalization_553: Trainable = True\n",
      "activation_548: Trainable = True\n",
      "conv2d_540: Trainable = True\n",
      "conv2d_544: Trainable = True\n",
      "batch_normalization_550: Trainable = True\n",
      "batch_normalization_554: Trainable = True\n",
      "activation_545: Trainable = True\n",
      "activation_549: Trainable = True\n",
      "conv2d_541: Trainable = True\n",
      "conv2d_545: Trainable = True\n",
      "batch_normalization_551: Trainable = True\n",
      "batch_normalization_555: Trainable = True\n",
      "activation_546: Trainable = True\n",
      "activation_550: Trainable = True\n",
      "max_pooling2d_23: Trainable = True\n",
      "mixed8: Trainable = True\n",
      "conv2d_550: Trainable = True\n",
      "batch_normalization_560: Trainable = True\n",
      "activation_555: Trainable = True\n",
      "conv2d_547: Trainable = True\n",
      "conv2d_551: Trainable = True\n",
      "batch_normalization_557: Trainable = True\n",
      "batch_normalization_561: Trainable = True\n",
      "activation_552: Trainable = True\n",
      "activation_556: Trainable = True\n",
      "conv2d_548: Trainable = True\n",
      "conv2d_549: Trainable = True\n",
      "conv2d_552: Trainable = True\n",
      "conv2d_553: Trainable = True\n",
      "average_pooling2d_52: Trainable = True\n",
      "conv2d_546: Trainable = True\n",
      "batch_normalization_558: Trainable = True\n",
      "batch_normalization_559: Trainable = True\n",
      "batch_normalization_562: Trainable = True\n",
      "batch_normalization_563: Trainable = True\n",
      "conv2d_554: Trainable = True\n",
      "batch_normalization_556: Trainable = True\n",
      "activation_553: Trainable = True\n",
      "activation_554: Trainable = True\n",
      "activation_557: Trainable = True\n",
      "activation_558: Trainable = True\n",
      "batch_normalization_564: Trainable = True\n",
      "activation_551: Trainable = True\n",
      "mixed9_0: Trainable = True\n",
      "concatenate_10: Trainable = True\n",
      "activation_559: Trainable = True\n",
      "mixed9: Trainable = True\n",
      "conv2d_559: Trainable = True\n",
      "batch_normalization_569: Trainable = True\n",
      "activation_564: Trainable = True\n",
      "conv2d_556: Trainable = True\n",
      "conv2d_560: Trainable = True\n",
      "batch_normalization_566: Trainable = True\n",
      "batch_normalization_570: Trainable = True\n",
      "activation_561: Trainable = True\n",
      "activation_565: Trainable = True\n",
      "conv2d_557: Trainable = True\n",
      "conv2d_558: Trainable = True\n",
      "conv2d_561: Trainable = True\n",
      "conv2d_562: Trainable = True\n",
      "average_pooling2d_53: Trainable = True\n",
      "conv2d_555: Trainable = True\n",
      "batch_normalization_567: Trainable = True\n",
      "batch_normalization_568: Trainable = True\n",
      "batch_normalization_571: Trainable = True\n",
      "batch_normalization_572: Trainable = True\n",
      "conv2d_563: Trainable = True\n",
      "batch_normalization_565: Trainable = True\n",
      "activation_562: Trainable = True\n",
      "activation_563: Trainable = True\n",
      "activation_566: Trainable = True\n",
      "activation_567: Trainable = True\n",
      "batch_normalization_573: Trainable = True\n",
      "activation_560: Trainable = True\n",
      "mixed9_1: Trainable = True\n",
      "concatenate_11: Trainable = True\n",
      "activation_568: Trainable = True\n",
      "mixed10: Trainable = True\n"
     ]
    },
    {
     "data": {
      "text/html": [
       "<pre style=\"white-space:pre;overflow-x:auto;line-height:normal;font-family:Menlo,'DejaVu Sans Mono',consolas,'Courier New',monospace\"><span style=\"font-weight: bold\">Model: \"sequential_5\"</span>\n",
       "</pre>\n"
      ],
      "text/plain": [
       "\u001b[1mModel: \"sequential_5\"\u001b[0m\n"
      ]
     },
     "metadata": {},
     "output_type": "display_data"
    },
    {
     "data": {
      "text/html": [
       "<pre style=\"white-space:pre;overflow-x:auto;line-height:normal;font-family:Menlo,'DejaVu Sans Mono',consolas,'Courier New',monospace\">┏━━━━━━━━━━━━━━━━━━━━━━━━━━━━━━━━━━━━━━┳━━━━━━━━━━━━━━━━━━━━━━━━━━━━━┳━━━━━━━━━━━━━━━━━┓\n",
       "┃<span style=\"font-weight: bold\"> Layer (type)                         </span>┃<span style=\"font-weight: bold\"> Output Shape                </span>┃<span style=\"font-weight: bold\">         Param # </span>┃\n",
       "┡━━━━━━━━━━━━━━━━━━━━━━━━━━━━━━━━━━━━━━╇━━━━━━━━━━━━━━━━━━━━━━━━━━━━━╇━━━━━━━━━━━━━━━━━┩\n",
       "│ inception_v3 (<span style=\"color: #0087ff; text-decoration-color: #0087ff\">Functional</span>)            │ (<span style=\"color: #00d7ff; text-decoration-color: #00d7ff\">None</span>, <span style=\"color: #00af00; text-decoration-color: #00af00\">2</span>, <span style=\"color: #00af00; text-decoration-color: #00af00\">2</span>, <span style=\"color: #00af00; text-decoration-color: #00af00\">2048</span>)          │      <span style=\"color: #00af00; text-decoration-color: #00af00\">21,802,784</span> │\n",
       "├──────────────────────────────────────┼─────────────────────────────┼─────────────────┤\n",
       "│ flatten_5 (<span style=\"color: #0087ff; text-decoration-color: #0087ff\">Flatten</span>)                  │ (<span style=\"color: #00d7ff; text-decoration-color: #00d7ff\">None</span>, <span style=\"color: #00af00; text-decoration-color: #00af00\">8192</span>)                │               <span style=\"color: #00af00; text-decoration-color: #00af00\">0</span> │\n",
       "├──────────────────────────────────────┼─────────────────────────────┼─────────────────┤\n",
       "│ batch_normalization_574              │ (<span style=\"color: #00d7ff; text-decoration-color: #00d7ff\">None</span>, <span style=\"color: #00af00; text-decoration-color: #00af00\">8192</span>)                │          <span style=\"color: #00af00; text-decoration-color: #00af00\">32,768</span> │\n",
       "│ (<span style=\"color: #0087ff; text-decoration-color: #0087ff\">BatchNormalization</span>)                 │                             │                 │\n",
       "├──────────────────────────────────────┼─────────────────────────────┼─────────────────┤\n",
       "│ dense_10 (<span style=\"color: #0087ff; text-decoration-color: #0087ff\">Dense</span>)                     │ (<span style=\"color: #00d7ff; text-decoration-color: #00d7ff\">None</span>, <span style=\"color: #00af00; text-decoration-color: #00af00\">256</span>)                 │       <span style=\"color: #00af00; text-decoration-color: #00af00\">2,097,408</span> │\n",
       "├──────────────────────────────────────┼─────────────────────────────┼─────────────────┤\n",
       "│ batch_normalization_575              │ (<span style=\"color: #00d7ff; text-decoration-color: #00d7ff\">None</span>, <span style=\"color: #00af00; text-decoration-color: #00af00\">256</span>)                 │           <span style=\"color: #00af00; text-decoration-color: #00af00\">1,024</span> │\n",
       "│ (<span style=\"color: #0087ff; text-decoration-color: #0087ff\">BatchNormalization</span>)                 │                             │                 │\n",
       "├──────────────────────────────────────┼─────────────────────────────┼─────────────────┤\n",
       "│ activation_569 (<span style=\"color: #0087ff; text-decoration-color: #0087ff\">Activation</span>)          │ (<span style=\"color: #00d7ff; text-decoration-color: #00d7ff\">None</span>, <span style=\"color: #00af00; text-decoration-color: #00af00\">256</span>)                 │               <span style=\"color: #00af00; text-decoration-color: #00af00\">0</span> │\n",
       "├──────────────────────────────────────┼─────────────────────────────┼─────────────────┤\n",
       "│ dropout_5 (<span style=\"color: #0087ff; text-decoration-color: #0087ff\">Dropout</span>)                  │ (<span style=\"color: #00d7ff; text-decoration-color: #00d7ff\">None</span>, <span style=\"color: #00af00; text-decoration-color: #00af00\">256</span>)                 │               <span style=\"color: #00af00; text-decoration-color: #00af00\">0</span> │\n",
       "├──────────────────────────────────────┼─────────────────────────────┼─────────────────┤\n",
       "│ dense_11 (<span style=\"color: #0087ff; text-decoration-color: #0087ff\">Dense</span>)                     │ (<span style=\"color: #00d7ff; text-decoration-color: #00d7ff\">None</span>, <span style=\"color: #00af00; text-decoration-color: #00af00\">2</span>)                   │             <span style=\"color: #00af00; text-decoration-color: #00af00\">514</span> │\n",
       "└──────────────────────────────────────┴─────────────────────────────┴─────────────────┘\n",
       "</pre>\n"
      ],
      "text/plain": [
       "┏━━━━━━━━━━━━━━━━━━━━━━━━━━━━━━━━━━━━━━┳━━━━━━━━━━━━━━━━━━━━━━━━━━━━━┳━━━━━━━━━━━━━━━━━┓\n",
       "┃\u001b[1m \u001b[0m\u001b[1mLayer (type)                        \u001b[0m\u001b[1m \u001b[0m┃\u001b[1m \u001b[0m\u001b[1mOutput Shape               \u001b[0m\u001b[1m \u001b[0m┃\u001b[1m \u001b[0m\u001b[1m        Param #\u001b[0m\u001b[1m \u001b[0m┃\n",
       "┡━━━━━━━━━━━━━━━━━━━━━━━━━━━━━━━━━━━━━━╇━━━━━━━━━━━━━━━━━━━━━━━━━━━━━╇━━━━━━━━━━━━━━━━━┩\n",
       "│ inception_v3 (\u001b[38;5;33mFunctional\u001b[0m)            │ (\u001b[38;5;45mNone\u001b[0m, \u001b[38;5;34m2\u001b[0m, \u001b[38;5;34m2\u001b[0m, \u001b[38;5;34m2048\u001b[0m)          │      \u001b[38;5;34m21,802,784\u001b[0m │\n",
       "├──────────────────────────────────────┼─────────────────────────────┼─────────────────┤\n",
       "│ flatten_5 (\u001b[38;5;33mFlatten\u001b[0m)                  │ (\u001b[38;5;45mNone\u001b[0m, \u001b[38;5;34m8192\u001b[0m)                │               \u001b[38;5;34m0\u001b[0m │\n",
       "├──────────────────────────────────────┼─────────────────────────────┼─────────────────┤\n",
       "│ batch_normalization_574              │ (\u001b[38;5;45mNone\u001b[0m, \u001b[38;5;34m8192\u001b[0m)                │          \u001b[38;5;34m32,768\u001b[0m │\n",
       "│ (\u001b[38;5;33mBatchNormalization\u001b[0m)                 │                             │                 │\n",
       "├──────────────────────────────────────┼─────────────────────────────┼─────────────────┤\n",
       "│ dense_10 (\u001b[38;5;33mDense\u001b[0m)                     │ (\u001b[38;5;45mNone\u001b[0m, \u001b[38;5;34m256\u001b[0m)                 │       \u001b[38;5;34m2,097,408\u001b[0m │\n",
       "├──────────────────────────────────────┼─────────────────────────────┼─────────────────┤\n",
       "│ batch_normalization_575              │ (\u001b[38;5;45mNone\u001b[0m, \u001b[38;5;34m256\u001b[0m)                 │           \u001b[38;5;34m1,024\u001b[0m │\n",
       "│ (\u001b[38;5;33mBatchNormalization\u001b[0m)                 │                             │                 │\n",
       "├──────────────────────────────────────┼─────────────────────────────┼─────────────────┤\n",
       "│ activation_569 (\u001b[38;5;33mActivation\u001b[0m)          │ (\u001b[38;5;45mNone\u001b[0m, \u001b[38;5;34m256\u001b[0m)                 │               \u001b[38;5;34m0\u001b[0m │\n",
       "├──────────────────────────────────────┼─────────────────────────────┼─────────────────┤\n",
       "│ dropout_5 (\u001b[38;5;33mDropout\u001b[0m)                  │ (\u001b[38;5;45mNone\u001b[0m, \u001b[38;5;34m256\u001b[0m)                 │               \u001b[38;5;34m0\u001b[0m │\n",
       "├──────────────────────────────────────┼─────────────────────────────┼─────────────────┤\n",
       "│ dense_11 (\u001b[38;5;33mDense\u001b[0m)                     │ (\u001b[38;5;45mNone\u001b[0m, \u001b[38;5;34m2\u001b[0m)                   │             \u001b[38;5;34m514\u001b[0m │\n",
       "└──────────────────────────────────────┴─────────────────────────────┴─────────────────┘\n"
      ]
     },
     "metadata": {},
     "output_type": "display_data"
    },
    {
     "data": {
      "text/html": [
       "<pre style=\"white-space:pre;overflow-x:auto;line-height:normal;font-family:Menlo,'DejaVu Sans Mono',consolas,'Courier New',monospace\"><span style=\"font-weight: bold\"> Total params: </span><span style=\"color: #00af00; text-decoration-color: #00af00\">23,934,498</span> (91.30 MB)\n",
       "</pre>\n"
      ],
      "text/plain": [
       "\u001b[1m Total params: \u001b[0m\u001b[38;5;34m23,934,498\u001b[0m (91.30 MB)\n"
      ]
     },
     "metadata": {},
     "output_type": "display_data"
    },
    {
     "data": {
      "text/html": [
       "<pre style=\"white-space:pre;overflow-x:auto;line-height:normal;font-family:Menlo,'DejaVu Sans Mono',consolas,'Courier New',monospace\"><span style=\"font-weight: bold\"> Trainable params: </span><span style=\"color: #00af00; text-decoration-color: #00af00\">23,883,170</span> (91.11 MB)\n",
       "</pre>\n"
      ],
      "text/plain": [
       "\u001b[1m Trainable params: \u001b[0m\u001b[38;5;34m23,883,170\u001b[0m (91.11 MB)\n"
      ]
     },
     "metadata": {},
     "output_type": "display_data"
    },
    {
     "data": {
      "text/html": [
       "<pre style=\"white-space:pre;overflow-x:auto;line-height:normal;font-family:Menlo,'DejaVu Sans Mono',consolas,'Courier New',monospace\"><span style=\"font-weight: bold\"> Non-trainable params: </span><span style=\"color: #00af00; text-decoration-color: #00af00\">51,328</span> (200.50 KB)\n",
       "</pre>\n"
      ],
      "text/plain": [
       "\u001b[1m Non-trainable params: \u001b[0m\u001b[38;5;34m51,328\u001b[0m (200.50 KB)\n"
      ]
     },
     "metadata": {},
     "output_type": "display_data"
    }
   ],
   "source": [
    "from keras.models import Sequential\n",
    "from keras.layers import Flatten, BatchNormalization, Dense, Activation, Dropout\n",
    "from keras.optimizers import Adam\n",
    "from keras.applications import InceptionV3\n",
    "\n",
    "# Base Model\n",
    "base_Neural_Net = InceptionV3(input_shape=(120, 120, 3), weights='imagenet', include_top=False)\n",
    "\n",
    "\n",
    "\n",
    "for layer in base_Neural_Net.layers :\n",
    "    layer.trainable = True\n",
    "    \n",
    "for layer in base_Neural_Net.layers:\n",
    "    print(f\"{layer.name}: Trainable = {layer.trainable}\")\n",
    "\n",
    "# Create a Sequential model\n",
    "model_1 = Sequential()\n",
    "model_1.add(base_Neural_Net)\n",
    "model_1.add(Flatten())\n",
    "model_1.add(BatchNormalization())\n",
    "model_1.add(Dense(256, kernel_initializer='he_uniform'))\n",
    "model_1.add(BatchNormalization())\n",
    "model_1.add(Activation('relu'))\n",
    "model_1.add(Dropout(0.3))\n",
    "model_1.add(Dense(2, activation='softmax'))  # Categorical classification output\n",
    "\n",
    "# Compile the model with a smaller learning rate for fine-tuning\n",
    "model_1.compile(\n",
    "    loss='categorical_crossentropy',\n",
    "    optimizer=Adam(learning_rate=1e-4),  # Smaller learning rate for fine-tuning\n",
    "    metrics=['accuracy', 'AUC']\n",
    ")\n",
    "\n",
    "model_1.build((None, 120, 120, 3))\n",
    "\n",
    "# Print the model summary\n",
    "model_1.summary()\n"
   ]
  },
  {
   "cell_type": "code",
   "execution_count": 25,
   "id": "2858b495-3017-4ce4-9f93-1dbdd289b33e",
   "metadata": {},
   "outputs": [
    {
     "name": "stdout",
     "output_type": "stream",
     "text": [
      "Epoch 1/10\n",
      "\u001b[1m60/60\u001b[0m \u001b[32m━━━━━━━━━━━━━━━━━━━━\u001b[0m\u001b[37m\u001b[0m \u001b[1m0s\u001b[0m 631ms/step - AUC: 0.7275 - accuracy: 0.6626 - loss: 0.7167\n",
      "Epoch 1: val_accuracy did not improve from 0.92877\n",
      "\u001b[1m60/60\u001b[0m \u001b[32m━━━━━━━━━━━━━━━━━━━━\u001b[0m\u001b[37m\u001b[0m \u001b[1m83s\u001b[0m 876ms/step - AUC: 0.7291 - accuracy: 0.6640 - loss: 0.7143 - val_AUC: 0.7690 - val_accuracy: 0.7146 - val_loss: 1.0956\n",
      "Epoch 2/10\n",
      "\u001b[1m60/60\u001b[0m \u001b[32m━━━━━━━━━━━━━━━━━━━━\u001b[0m\u001b[37m\u001b[0m \u001b[1m0s\u001b[0m 632ms/step - AUC: 0.9255 - accuracy: 0.8592 - loss: 0.3620\n",
      "Epoch 2: val_accuracy did not improve from 0.92877\n",
      "\u001b[1m60/60\u001b[0m \u001b[32m━━━━━━━━━━━━━━━━━━━━\u001b[0m\u001b[37m\u001b[0m \u001b[1m50s\u001b[0m 840ms/step - AUC: 0.9258 - accuracy: 0.8594 - loss: 0.3613 - val_AUC: 0.9065 - val_accuracy: 0.8451 - val_loss: 0.5036\n",
      "Epoch 3/10\n",
      "\u001b[1m60/60\u001b[0m \u001b[32m━━━━━━━━━━━━━━━━━━━━\u001b[0m\u001b[37m\u001b[0m \u001b[1m0s\u001b[0m 640ms/step - AUC: 0.9635 - accuracy: 0.8956 - loss: 0.2469\n",
      "Epoch 3: val_accuracy did not improve from 0.92877\n",
      "\u001b[1m60/60\u001b[0m \u001b[32m━━━━━━━━━━━━━━━━━━━━\u001b[0m\u001b[37m\u001b[0m \u001b[1m51s\u001b[0m 846ms/step - AUC: 0.9635 - accuracy: 0.8955 - loss: 0.2470 - val_AUC: 0.9697 - val_accuracy: 0.9172 - val_loss: 0.2302\n",
      "Epoch 4/10\n",
      "\u001b[1m60/60\u001b[0m \u001b[32m━━━━━━━━━━━━━━━━━━━━\u001b[0m\u001b[37m\u001b[0m \u001b[1m0s\u001b[0m 641ms/step - AUC: 0.9762 - accuracy: 0.9263 - loss: 0.1972\n",
      "Epoch 4: val_accuracy did not improve from 0.92877\n",
      "\u001b[1m60/60\u001b[0m \u001b[32m━━━━━━━━━━━━━━━━━━━━\u001b[0m\u001b[37m\u001b[0m \u001b[1m51s\u001b[0m 847ms/step - AUC: 0.9762 - accuracy: 0.9263 - loss: 0.1970 - val_AUC: 0.9740 - val_accuracy: 0.9241 - val_loss: 0.2148\n",
      "Epoch 5/10\n",
      "\u001b[1m60/60\u001b[0m \u001b[32m━━━━━━━━━━━━━━━━━━━━\u001b[0m\u001b[37m\u001b[0m \u001b[1m0s\u001b[0m 634ms/step - AUC: 0.9824 - accuracy: 0.9316 - loss: 0.1677\n",
      "Epoch 5: val_accuracy did not improve from 0.92877\n",
      "\u001b[1m60/60\u001b[0m \u001b[32m━━━━━━━━━━━━━━━━━━━━\u001b[0m\u001b[37m\u001b[0m \u001b[1m50s\u001b[0m 841ms/step - AUC: 0.9824 - accuracy: 0.9317 - loss: 0.1677 - val_AUC: 0.9776 - val_accuracy: 0.9269 - val_loss: 0.2024\n",
      "Epoch 6/10\n",
      "\u001b[1m60/60\u001b[0m \u001b[32m━━━━━━━━━━━━━━━━━━━━\u001b[0m\u001b[37m\u001b[0m \u001b[1m0s\u001b[0m 636ms/step - AUC: 0.9817 - accuracy: 0.9449 - loss: 0.1679\n",
      "Epoch 6: val_accuracy improved from 0.92877 to 0.93848, saving model to model_InceptionV3.keras\n",
      "\u001b[1m60/60\u001b[0m \u001b[32m━━━━━━━━━━━━━━━━━━━━\u001b[0m\u001b[37m\u001b[0m \u001b[1m52s\u001b[0m 875ms/step - AUC: 0.9817 - accuracy: 0.9449 - loss: 0.1677 - val_AUC: 0.9838 - val_accuracy: 0.9385 - val_loss: 0.1658\n",
      "Epoch 7/10\n",
      "\u001b[1m60/60\u001b[0m \u001b[32m━━━━━━━━━━━━━━━━━━━━\u001b[0m\u001b[37m\u001b[0m \u001b[1m0s\u001b[0m 633ms/step - AUC: 0.9920 - accuracy: 0.9560 - loss: 0.1141\n",
      "Epoch 7: val_accuracy improved from 0.93848 to 0.94588, saving model to model_InceptionV3.keras\n",
      "\u001b[1m60/60\u001b[0m \u001b[32m━━━━━━━━━━━━━━━━━━━━\u001b[0m\u001b[37m\u001b[0m \u001b[1m52s\u001b[0m 864ms/step - AUC: 0.9919 - accuracy: 0.9560 - loss: 0.1144 - val_AUC: 0.9850 - val_accuracy: 0.9459 - val_loss: 0.1602\n",
      "Epoch 8/10\n",
      "\u001b[1m60/60\u001b[0m \u001b[32m━━━━━━━━━━━━━━━━━━━━\u001b[0m\u001b[37m\u001b[0m \u001b[1m0s\u001b[0m 631ms/step - AUC: 0.9895 - accuracy: 0.9582 - loss: 0.1259\n",
      "Epoch 8: val_accuracy improved from 0.94588 to 0.96161, saving model to model_InceptionV3.keras\n",
      "\u001b[1m60/60\u001b[0m \u001b[32m━━━━━━━━━━━━━━━━━━━━\u001b[0m\u001b[37m\u001b[0m \u001b[1m52s\u001b[0m 865ms/step - AUC: 0.9895 - accuracy: 0.9582 - loss: 0.1257 - val_AUC: 0.9909 - val_accuracy: 0.9616 - val_loss: 0.1134\n",
      "Epoch 9/10\n",
      "\u001b[1m60/60\u001b[0m \u001b[32m━━━━━━━━━━━━━━━━━━━━\u001b[0m\u001b[37m\u001b[0m \u001b[1m0s\u001b[0m 636ms/step - AUC: 0.9833 - accuracy: 0.9556 - loss: 0.1406\n",
      "Epoch 9: val_accuracy improved from 0.96161 to 0.96994, saving model to model_InceptionV3.keras\n",
      "\u001b[1m60/60\u001b[0m \u001b[32m━━━━━━━━━━━━━━━━━━━━\u001b[0m\u001b[37m\u001b[0m \u001b[1m52s\u001b[0m 867ms/step - AUC: 0.9834 - accuracy: 0.9556 - loss: 0.1402 - val_AUC: 0.9942 - val_accuracy: 0.9699 - val_loss: 0.0843\n",
      "Epoch 10/10\n",
      "\u001b[1m60/60\u001b[0m \u001b[32m━━━━━━━━━━━━━━━━━━━━\u001b[0m\u001b[37m\u001b[0m \u001b[1m0s\u001b[0m 633ms/step - AUC: 0.9963 - accuracy: 0.9715 - loss: 0.0786\n",
      "Epoch 10: val_accuracy improved from 0.96994 to 0.97826, saving model to model_InceptionV3.keras\n",
      "\u001b[1m60/60\u001b[0m \u001b[32m━━━━━━━━━━━━━━━━━━━━\u001b[0m\u001b[37m\u001b[0m \u001b[1m52s\u001b[0m 862ms/step - AUC: 0.9963 - accuracy: 0.9714 - loss: 0.0787 - val_AUC: 0.9953 - val_accuracy: 0.9783 - val_loss: 0.0694\n"
     ]
    }
   ],
   "source": [
    "EPOCHS = 10\n",
    "est = EarlyStopping(\n",
    "    monitor='val_accuracy', \n",
    "    mode='max',\n",
    "    patience=8\n",
    ")\n",
    "\n",
    "history_01 = model_1.fit(\n",
    "    train_generator,\n",
    "    batch_size=32,\n",
    "    epochs=EPOCHS,\n",
    "    steps_per_epoch=60,\n",
    "    validation_data=valid_generator,\n",
    "    callbacks=[est,cp]\n",
    ")"
   ]
  },
  {
   "cell_type": "code",
   "execution_count": 26,
   "id": "ade216ac-2780-4e4b-8bcc-6e75f71220a2",
   "metadata": {},
   "outputs": [],
   "source": [
    "def plot_metrics(history):\n",
    "    \n",
    "    train_loss = history.history['loss']\n",
    "    val_loss = history.history['val_loss']\n",
    "    train_acc = history.history['accuracy']\n",
    "    val_acc = history.history['val_accuracy']\n",
    "    \n",
    "    # Loss\n",
    "    plt.figure()\n",
    "    plt.plot(train_loss, label='Training Loss')\n",
    "    plt.plot(val_loss, label='Validation Loss')\n",
    "    plt.title('Loss')\n",
    "    plt.legend()\n",
    "    plt.show()\n",
    "    \n",
    "    # Accuracy\n",
    "    plt.figure()\n",
    "    plt.plot(train_acc, label='Training Accuracy')\n",
    "    plt.plot(val_acc, label='Validation Accuracy')\n",
    "    plt.title('Accuracy')\n",
    "    plt.legend()\n",
    "    plt.show()"
   ]
  },
  {
   "cell_type": "code",
   "execution_count": 27,
   "id": "53c7adb0-0fa6-4bd7-bbd8-dc0fc1ed4c10",
   "metadata": {},
   "outputs": [
    {
     "data": {
      "image/png": "[encoded data removed]",
      "text/plain": [
       "<Figure size 640x480 with 1 Axes>"
      ]
     },
     "metadata": {},
     "output_type": "display_data"
    },
    {
     "data": {
      "image/png": "[encoded data removed]",
      "text/plain": [
       "<Figure size 640x480 with 1 Axes>"
      ]
     },
     "metadata": {},
     "output_type": "display_data"
    }
   ],
   "source": [
    "plot_metrics(history_01) "
   ]
  },
  {
   "cell_type": "code",
   "execution_count": 1,
   "id": "c807240a-726c-494d-b12f-b36d5d7d5361",
   "metadata": {},
   "outputs": [
    {
     "data": {
      "text/plain": [
       "['loss', 'compile_metrics']"
      ]
     },
     "execution_count": 1,
     "metadata": {},
     "output_type": "execute_result"
    }
   ],
   "source": [
    "from tensorflow.keras.models import Model, load_model\n",
    "model_1=load_model(\"model_InceptionV3.keras\")\n",
    "model_1.metrics_names"
   ]
  },
  {
   "cell_type": "code",
   "execution_count": 11,
   "id": "be835367-2d7d-4456-acf7-682a0a5c5154",
   "metadata": {},
   "outputs": [
    {
     "name": "stderr",
     "output_type": "stream",
     "text": [
      "C:\\Users\\abhi2\\anaconda3\\Lib\\site-packages\\keras\\src\\trainers\\data_adapters\\py_dataset_adapter.py:121: UserWarning: Your `PyDataset` class should call `super().__init__(**kwargs)` in its constructor. `**kwargs` can include `workers`, `use_multiprocessing`, `max_queue_size`. Do not pass these arguments to `fit()`, as they will be ignored.\n",
      "  self._warn_if_super_not_called()\n"
     ]
    },
    {
     "name": "stdout",
     "output_type": "stream",
     "text": [
      "\u001b[1m68/68\u001b[0m \u001b[32m━━━━━━━━━━━━━━━━━━━━\u001b[0m\u001b[37m\u001b[0m \u001b[1m18s\u001b[0m 215ms/step - AUC: 0.9985 - accuracy: 0.9889 - loss: 0.0397\n",
      "Loss: 0.06107970327138901, Accuracy: 0.9782205820083618, AUC: 0.9969826936721802\n"
     ]
    }
   ],
   "source": [
    "metrics = model_1.evaluate(test_generator)\n",
    "loss = metrics[0]\n",
    "accuracy = metrics[1]\n",
    "auc = metrics[2]\n",
    "\n",
    "print(f'Loss: {loss}, Accuracy: {accuracy}, AUC: {auc}')"
   ]
  },
  {
   "cell_type": "code",
   "execution_count": 12,
   "id": "7259f9a6-1fed-449b-8230-12aa3bfa1550",
   "metadata": {},
   "outputs": [
    {
     "name": "stdout",
     "output_type": "stream",
     "text": [
      "Test Loss = 0.06107970327138901\n",
      "Test Accuracy = 0.9782205820083618\n"
     ]
    }
   ],
   "source": [
    "print (f\"Test Loss = {loss}\")\n",
    "print (f\"Test Accuracy = {accuracy}\")"
   ]
  },
  {
   "cell_type": "code",
   "execution_count": 13,
   "id": "5e0bf4b5-6a3b-4513-b1e5-45cf707b5436",
   "metadata": {},
   "outputs": [
    {
     "name": "stdout",
     "output_type": "stream",
     "text": [
      "\u001b[1m68/68\u001b[0m \u001b[32m━━━━━━━━━━━━━━━━━━━━\u001b[0m\u001b[37m\u001b[0m \u001b[1m17s\u001b[0m 228ms/step\n",
      "Confusion Matrix:\n",
      " [[1071    8]\n",
      " [  25 1054]]\n",
      "              precision    recall  f1-score   support\n",
      "\n",
      "           0       0.98      0.99      0.98      1079\n",
      "           1       0.99      0.98      0.98      1079\n",
      "\n",
      "    accuracy                           0.98      2158\n",
      "   macro avg       0.98      0.98      0.98      2158\n",
      "weighted avg       0.98      0.98      0.98      2158\n",
      "\n"
     ]
    }
   ],
   "source": [
    "predicted_probabilities = model_1.predict(test_generator)[:, 1]\n",
    "\n",
    "# Set a custom threshold\n",
    "threshold = 0.5  # Change this value to experiment\n",
    "adjusted_predictions = (predicted_probabilities >= threshold).astype(int)\n",
    "\n",
    "# Generate the confusion matrix\n",
    "from sklearn.metrics import confusion_matrix\n",
    "conf_matrix = confusion_matrix(test_generator.classes, adjusted_predictions)\n",
    "print(\"Confusion Matrix:\\n\", conf_matrix)\n",
    "\n",
    "# Calculate accuracy, precision, recall, and F1-score\n",
    "from sklearn.metrics import classification_report\n",
    "print(classification_report(test_generator.classes, adjusted_predictions))"
   ]
  },
  {
   "cell_type": "code",
   "execution_count": null,
   "id": "0618d71a-05c2-474f-bd1b-3a643b317630",
   "metadata": {},
   "outputs": [],
   "source": []
  }
 ],
 "metadata": {
  "kernelspec": {
   "display_name": "Python 3 (ipykernel)",
   "language": "python",
   "name": "python3"
  },
  "language_info": {
   "codemirror_mode": {
    "name": "ipython",
    "version": 3
   },
   "file_extension": ".py",
   "mimetype": "text/x-python",
   "name": "python",
   "nbconvert_exporter": "python",
   "pygments_lexer": "ipython3",
   "version": "3.11.7"
  }
 },
 "nbformat": 4,
 "nbformat_minor": 5
}
